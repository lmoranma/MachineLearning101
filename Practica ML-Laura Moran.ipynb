{
 "cells": [
  {
   "cell_type": "markdown",
   "metadata": {},
   "source": [
    "# Práctica Machine Learning 101\n",
    "\n",
    "## Predicción los precios Airbnb \n",
    "\n",
    "La finalidad de este notebook es predecir de manera satisfactoria el precio de los apartamentos ubicados en Madrid que se encuentran en Airbnb."
   ]
  },
  {
   "cell_type": "code",
   "execution_count": 1,
   "metadata": {},
   "outputs": [],
   "source": [
    "import numpy as np\n",
    "import pandas as pd\n",
    "\n",
    "import matplotlib.pyplot as plt\n",
    "from matplotlib.colors import ListedColormap\n",
    "%matplotlib inline\n",
    "\n",
    "cm = plt.cm.RdBu\n",
    "cm_bright = ListedColormap(['#FF0000', '#0000FF'])\n",
    "\n",
    "import warnings\n",
    "warnings.filterwarnings('ignore')"
   ]
  },
  {
   "cell_type": "markdown",
   "metadata": {},
   "source": [
    "## 1. Carga del fichero airbnb y división train, test."
   ]
  },
  {
   "cell_type": "code",
   "execution_count": 2,
   "metadata": {},
   "outputs": [],
   "source": [
    "airbnb = pd.read_csv('./data/airbnb-listings-extract.csv',sep=';', decimal='.')"
   ]
  },
  {
   "cell_type": "markdown",
   "metadata": {},
   "source": [
    "Pasamos a dividir en train y test."
   ]
  },
  {
   "cell_type": "code",
   "execution_count": 3,
   "metadata": {},
   "outputs": [
    {
     "name": "stdout",
     "output_type": "stream",
     "text": [
      "Dimensiones del dataset de training: (11824, 89)\n",
      "Dimensiones del dataset de test: (2956, 89)\n"
     ]
    }
   ],
   "source": [
    "from sklearn.model_selection import train_test_split\n",
    "\n",
    "train, test = train_test_split(airbnb, test_size=0.2, shuffle=True, random_state=0)\n",
    "\n",
    "print(f'Dimensiones del dataset de training: {train.shape}')\n",
    "print(f'Dimensiones del dataset de test: {test.shape}')\n",
    "\n",
    "# Guardamos los ficheros para poder trabajar con ellos\n",
    "train.to_csv('./train.csv', sep=';', decimal='.', index=False)\n",
    "test.to_csv('./test.csv', sep=';', decimal='.', index=False)"
   ]
  },
  {
   "cell_type": "markdown",
   "metadata": {},
   "source": [
    "A partir de ahora pasaremos a usar solamente el dataset de Train."
   ]
  },
  {
   "cell_type": "code",
   "execution_count": 4,
   "metadata": {},
   "outputs": [],
   "source": [
    "train = pd.read_csv('./train.csv', sep=';', decimal='.')"
   ]
  },
  {
   "cell_type": "code",
   "execution_count": 5,
   "metadata": {},
   "outputs": [],
   "source": [
    "test = pd.read_csv('./test.csv', sep=';', decimal='.')"
   ]
  },
  {
   "cell_type": "markdown",
   "metadata": {},
   "source": [
    "## 2. Análisis exploratorio"
   ]
  },
  {
   "cell_type": "code",
   "execution_count": 6,
   "metadata": {},
   "outputs": [
    {
     "data": {
      "text/html": [
       "<div>\n",
       "<style scoped>\n",
       "    .dataframe tbody tr th:only-of-type {\n",
       "        vertical-align: middle;\n",
       "    }\n",
       "\n",
       "    .dataframe tbody tr th {\n",
       "        vertical-align: top;\n",
       "    }\n",
       "\n",
       "    .dataframe thead th {\n",
       "        text-align: right;\n",
       "    }\n",
       "</style>\n",
       "<table border=\"1\" class=\"dataframe\">\n",
       "  <thead>\n",
       "    <tr style=\"text-align: right;\">\n",
       "      <th></th>\n",
       "      <th>ID</th>\n",
       "      <th>Listing Url</th>\n",
       "      <th>Scrape ID</th>\n",
       "      <th>Last Scraped</th>\n",
       "      <th>Name</th>\n",
       "      <th>Summary</th>\n",
       "      <th>Space</th>\n",
       "      <th>Description</th>\n",
       "      <th>Experiences Offered</th>\n",
       "      <th>Neighborhood Overview</th>\n",
       "      <th>...</th>\n",
       "      <th>Review Scores Communication</th>\n",
       "      <th>Review Scores Location</th>\n",
       "      <th>Review Scores Value</th>\n",
       "      <th>License</th>\n",
       "      <th>Jurisdiction Names</th>\n",
       "      <th>Cancellation Policy</th>\n",
       "      <th>Calculated host listings count</th>\n",
       "      <th>Reviews per Month</th>\n",
       "      <th>Geolocation</th>\n",
       "      <th>Features</th>\n",
       "    </tr>\n",
       "  </thead>\n",
       "  <tbody>\n",
       "    <tr>\n",
       "      <td>0</td>\n",
       "      <td>5994463</td>\n",
       "      <td>https://www.airbnb.com/rooms/5994463</td>\n",
       "      <td>20170407214119</td>\n",
       "      <td>2017-04-08</td>\n",
       "      <td>PISO ATOCHA- FLAT NEAR ATOCHA  .</td>\n",
       "      <td>Piso recién reformado cómoda habitación con ba...</td>\n",
       "      <td>Un piso muy cómodo en Jerónimos, una de las zo...</td>\n",
       "      <td>Piso recién reformado cómoda habitación con ba...</td>\n",
       "      <td>none</td>\n",
       "      <td>El barrio de Jeronimos es un enclave tranquilo...</td>\n",
       "      <td>...</td>\n",
       "      <td>10.0</td>\n",
       "      <td>10.0</td>\n",
       "      <td>9.0</td>\n",
       "      <td>NaN</td>\n",
       "      <td>NaN</td>\n",
       "      <td>moderate</td>\n",
       "      <td>2.0</td>\n",
       "      <td>0.50</td>\n",
       "      <td>40.4077318793,-3.68481869733</td>\n",
       "      <td>Host Has Profile Pic,Is Location Exact,Require...</td>\n",
       "    </tr>\n",
       "    <tr>\n",
       "      <td>1</td>\n",
       "      <td>14136180</td>\n",
       "      <td>https://www.airbnb.com/rooms/14136180</td>\n",
       "      <td>20170407214119</td>\n",
       "      <td>2017-04-08</td>\n",
       "      <td>The Palace Sol Madrid.</td>\n",
       "      <td>Lugares de interés: Plaza Mayor, Plaza del Sol...</td>\n",
       "      <td>El apartamento dispone de un dormitorio indepe...</td>\n",
       "      <td>Lugares de interés: Plaza Mayor, Plaza del Sol...</td>\n",
       "      <td>none</td>\n",
       "      <td>Situado en el corazón de Madrid, este apartame...</td>\n",
       "      <td>...</td>\n",
       "      <td>10.0</td>\n",
       "      <td>10.0</td>\n",
       "      <td>10.0</td>\n",
       "      <td>NaN</td>\n",
       "      <td>NaN</td>\n",
       "      <td>flexible</td>\n",
       "      <td>1.0</td>\n",
       "      <td>2.43</td>\n",
       "      <td>40.4158022422,-3.70534037765</td>\n",
       "      <td>Host Has Profile Pic,Host Identity Verified,Re...</td>\n",
       "    </tr>\n",
       "    <tr>\n",
       "      <td>2</td>\n",
       "      <td>15520134</td>\n",
       "      <td>https://www.airbnb.com/rooms/15520134</td>\n",
       "      <td>20170407214119</td>\n",
       "      <td>2017-04-08</td>\n",
       "      <td>por persona la noche metro linea5 vista alegre</td>\n",
       "      <td>我的房源靠近餐厅和餐饮、适合家庭的活动、公共交通。因为舒适的床、温馨、厨房、景观,您一定会爱...</td>\n",
       "      <td>NaN</td>\n",
       "      <td>我的房源靠近餐厅和餐饮、适合家庭的活动、公共交通。因为舒适的床、温馨、厨房、景观,您一定会爱...</td>\n",
       "      <td>none</td>\n",
       "      <td>NaN</td>\n",
       "      <td>...</td>\n",
       "      <td>NaN</td>\n",
       "      <td>NaN</td>\n",
       "      <td>NaN</td>\n",
       "      <td>NaN</td>\n",
       "      <td>NaN</td>\n",
       "      <td>moderate</td>\n",
       "      <td>16.0</td>\n",
       "      <td>NaN</td>\n",
       "      <td>40.3890481626,-3.74037392557</td>\n",
       "      <td>Host Has Profile Pic,Host Identity Verified,Is...</td>\n",
       "    </tr>\n",
       "    <tr>\n",
       "      <td>3</td>\n",
       "      <td>8809721</td>\n",
       "      <td>https://www.airbnb.com/rooms/8809721</td>\n",
       "      <td>20170407214119</td>\n",
       "      <td>2017-04-08</td>\n",
       "      <td>CITY CENTER JACINTO BENAVENTE ROOM4</td>\n",
       "      <td>This stunning and amazig room is covered with ...</td>\n",
       "      <td>NaN</td>\n",
       "      <td>This stunning and amazig room is covered with ...</td>\n",
       "      <td>none</td>\n",
       "      <td>NaN</td>\n",
       "      <td>...</td>\n",
       "      <td>NaN</td>\n",
       "      <td>NaN</td>\n",
       "      <td>NaN</td>\n",
       "      <td>NaN</td>\n",
       "      <td>NaN</td>\n",
       "      <td>strict</td>\n",
       "      <td>97.0</td>\n",
       "      <td>NaN</td>\n",
       "      <td>40.4128140929,-3.70305247638</td>\n",
       "      <td>Host Has Profile Pic,Requires License</td>\n",
       "    </tr>\n",
       "    <tr>\n",
       "      <td>4</td>\n",
       "      <td>1162707</td>\n",
       "      <td>https://www.airbnb.com/rooms/1162707</td>\n",
       "      <td>20170407214119</td>\n",
       "      <td>2017-04-08</td>\n",
       "      <td>NICE &amp; BIG DOUBLE ROOM AT DOWNTOWN</td>\n",
       "      <td>NaN</td>\n",
       "      <td>We are a young couple; David (Spain) and Ana (...</td>\n",
       "      <td>We are a young couple; David (Spain) and Ana (...</td>\n",
       "      <td>none</td>\n",
       "      <td>NaN</td>\n",
       "      <td>...</td>\n",
       "      <td>10.0</td>\n",
       "      <td>9.0</td>\n",
       "      <td>9.0</td>\n",
       "      <td>NaN</td>\n",
       "      <td>NaN</td>\n",
       "      <td>strict</td>\n",
       "      <td>2.0</td>\n",
       "      <td>2.08</td>\n",
       "      <td>40.4386311984,-3.71371613279</td>\n",
       "      <td>Host Has Profile Pic,Host Identity Verified,Is...</td>\n",
       "    </tr>\n",
       "  </tbody>\n",
       "</table>\n",
       "<p>5 rows × 89 columns</p>\n",
       "</div>"
      ],
      "text/plain": [
       "         ID                            Listing Url       Scrape ID  \\\n",
       "0   5994463   https://www.airbnb.com/rooms/5994463  20170407214119   \n",
       "1  14136180  https://www.airbnb.com/rooms/14136180  20170407214119   \n",
       "2  15520134  https://www.airbnb.com/rooms/15520134  20170407214119   \n",
       "3   8809721   https://www.airbnb.com/rooms/8809721  20170407214119   \n",
       "4   1162707   https://www.airbnb.com/rooms/1162707  20170407214119   \n",
       "\n",
       "  Last Scraped                                            Name  \\\n",
       "0   2017-04-08                PISO ATOCHA- FLAT NEAR ATOCHA  .   \n",
       "1   2017-04-08                          The Palace Sol Madrid.   \n",
       "2   2017-04-08  por persona la noche metro linea5 vista alegre   \n",
       "3   2017-04-08             CITY CENTER JACINTO BENAVENTE ROOM4   \n",
       "4   2017-04-08              NICE & BIG DOUBLE ROOM AT DOWNTOWN   \n",
       "\n",
       "                                             Summary  \\\n",
       "0  Piso recién reformado cómoda habitación con ba...   \n",
       "1  Lugares de interés: Plaza Mayor, Plaza del Sol...   \n",
       "2  我的房源靠近餐厅和餐饮、适合家庭的活动、公共交通。因为舒适的床、温馨、厨房、景观,您一定会爱...   \n",
       "3  This stunning and amazig room is covered with ...   \n",
       "4                                                NaN   \n",
       "\n",
       "                                               Space  \\\n",
       "0  Un piso muy cómodo en Jerónimos, una de las zo...   \n",
       "1  El apartamento dispone de un dormitorio indepe...   \n",
       "2                                                NaN   \n",
       "3                                                NaN   \n",
       "4  We are a young couple; David (Spain) and Ana (...   \n",
       "\n",
       "                                         Description Experiences Offered  \\\n",
       "0  Piso recién reformado cómoda habitación con ba...                none   \n",
       "1  Lugares de interés: Plaza Mayor, Plaza del Sol...                none   \n",
       "2  我的房源靠近餐厅和餐饮、适合家庭的活动、公共交通。因为舒适的床、温馨、厨房、景观,您一定会爱...                none   \n",
       "3  This stunning and amazig room is covered with ...                none   \n",
       "4  We are a young couple; David (Spain) and Ana (...                none   \n",
       "\n",
       "                               Neighborhood Overview  ...  \\\n",
       "0  El barrio de Jeronimos es un enclave tranquilo...  ...   \n",
       "1  Situado en el corazón de Madrid, este apartame...  ...   \n",
       "2                                                NaN  ...   \n",
       "3                                                NaN  ...   \n",
       "4                                                NaN  ...   \n",
       "\n",
       "  Review Scores Communication Review Scores Location Review Scores Value  \\\n",
       "0                        10.0                   10.0                 9.0   \n",
       "1                        10.0                   10.0                10.0   \n",
       "2                         NaN                    NaN                 NaN   \n",
       "3                         NaN                    NaN                 NaN   \n",
       "4                        10.0                    9.0                 9.0   \n",
       "\n",
       "  License Jurisdiction Names Cancellation Policy  \\\n",
       "0     NaN                NaN            moderate   \n",
       "1     NaN                NaN            flexible   \n",
       "2     NaN                NaN            moderate   \n",
       "3     NaN                NaN              strict   \n",
       "4     NaN                NaN              strict   \n",
       "\n",
       "  Calculated host listings count Reviews per Month  \\\n",
       "0                            2.0              0.50   \n",
       "1                            1.0              2.43   \n",
       "2                           16.0               NaN   \n",
       "3                           97.0               NaN   \n",
       "4                            2.0              2.08   \n",
       "\n",
       "                    Geolocation  \\\n",
       "0  40.4077318793,-3.68481869733   \n",
       "1  40.4158022422,-3.70534037765   \n",
       "2  40.3890481626,-3.74037392557   \n",
       "3  40.4128140929,-3.70305247638   \n",
       "4  40.4386311984,-3.71371613279   \n",
       "\n",
       "                                            Features  \n",
       "0  Host Has Profile Pic,Is Location Exact,Require...  \n",
       "1  Host Has Profile Pic,Host Identity Verified,Re...  \n",
       "2  Host Has Profile Pic,Host Identity Verified,Is...  \n",
       "3              Host Has Profile Pic,Requires License  \n",
       "4  Host Has Profile Pic,Host Identity Verified,Is...  \n",
       "\n",
       "[5 rows x 89 columns]"
      ]
     },
     "execution_count": 6,
     "metadata": {},
     "output_type": "execute_result"
    }
   ],
   "source": [
    "train.head()"
   ]
  },
  {
   "cell_type": "code",
   "execution_count": 7,
   "metadata": {},
   "outputs": [
    {
     "data": {
      "text/html": [
       "<div>\n",
       "<style scoped>\n",
       "    .dataframe tbody tr th:only-of-type {\n",
       "        vertical-align: middle;\n",
       "    }\n",
       "\n",
       "    .dataframe tbody tr th {\n",
       "        vertical-align: top;\n",
       "    }\n",
       "\n",
       "    .dataframe thead th {\n",
       "        text-align: right;\n",
       "    }\n",
       "</style>\n",
       "<table border=\"1\" class=\"dataframe\">\n",
       "  <thead>\n",
       "    <tr style=\"text-align: right;\">\n",
       "      <th></th>\n",
       "      <th>ID</th>\n",
       "      <th>Scrape ID</th>\n",
       "      <th>Host ID</th>\n",
       "      <th>Host Response Rate</th>\n",
       "      <th>Host Listings Count</th>\n",
       "      <th>Host Total Listings Count</th>\n",
       "      <th>Latitude</th>\n",
       "      <th>Longitude</th>\n",
       "      <th>Accommodates</th>\n",
       "      <th>Bathrooms</th>\n",
       "      <th>...</th>\n",
       "      <th>Number of Reviews</th>\n",
       "      <th>Review Scores Rating</th>\n",
       "      <th>Review Scores Accuracy</th>\n",
       "      <th>Review Scores Cleanliness</th>\n",
       "      <th>Review Scores Checkin</th>\n",
       "      <th>Review Scores Communication</th>\n",
       "      <th>Review Scores Location</th>\n",
       "      <th>Review Scores Value</th>\n",
       "      <th>Calculated host listings count</th>\n",
       "      <th>Reviews per Month</th>\n",
       "    </tr>\n",
       "  </thead>\n",
       "  <tbody>\n",
       "    <tr>\n",
       "      <td>count</td>\n",
       "      <td>1.182400e+04</td>\n",
       "      <td>1.182400e+04</td>\n",
       "      <td>1.182400e+04</td>\n",
       "      <td>10317.000000</td>\n",
       "      <td>11821.000000</td>\n",
       "      <td>11821.000000</td>\n",
       "      <td>11824.000000</td>\n",
       "      <td>11824.000000</td>\n",
       "      <td>11824.000000</td>\n",
       "      <td>11780.000000</td>\n",
       "      <td>...</td>\n",
       "      <td>11824.000000</td>\n",
       "      <td>9163.000000</td>\n",
       "      <td>9143.000000</td>\n",
       "      <td>9148.000000</td>\n",
       "      <td>9136.000000</td>\n",
       "      <td>9147.000000</td>\n",
       "      <td>9133.000000</td>\n",
       "      <td>9132.000000</td>\n",
       "      <td>11820.000000</td>\n",
       "      <td>9285.000000</td>\n",
       "    </tr>\n",
       "    <tr>\n",
       "      <td>mean</td>\n",
       "      <td>1.025308e+07</td>\n",
       "      <td>2.017038e+13</td>\n",
       "      <td>3.588310e+07</td>\n",
       "      <td>94.803722</td>\n",
       "      <td>12.754420</td>\n",
       "      <td>12.754420</td>\n",
       "      <td>40.491628</td>\n",
       "      <td>-3.776863</td>\n",
       "      <td>3.277486</td>\n",
       "      <td>1.285229</td>\n",
       "      <td>...</td>\n",
       "      <td>22.664834</td>\n",
       "      <td>91.628179</td>\n",
       "      <td>9.410040</td>\n",
       "      <td>9.320726</td>\n",
       "      <td>9.623905</td>\n",
       "      <td>9.647863</td>\n",
       "      <td>9.534655</td>\n",
       "      <td>9.211345</td>\n",
       "      <td>9.615313</td>\n",
       "      <td>1.873326</td>\n",
       "    </tr>\n",
       "    <tr>\n",
       "      <td>std</td>\n",
       "      <td>5.566485e+06</td>\n",
       "      <td>5.505346e+08</td>\n",
       "      <td>3.411993e+07</td>\n",
       "      <td>15.247078</td>\n",
       "      <td>34.578895</td>\n",
       "      <td>34.578895</td>\n",
       "      <td>4.701030</td>\n",
       "      <td>14.014695</td>\n",
       "      <td>2.093973</td>\n",
       "      <td>0.664691</td>\n",
       "      <td>...</td>\n",
       "      <td>38.092338</td>\n",
       "      <td>9.137614</td>\n",
       "      <td>0.938013</td>\n",
       "      <td>1.004472</td>\n",
       "      <td>0.804050</td>\n",
       "      <td>0.765450</td>\n",
       "      <td>0.770421</td>\n",
       "      <td>0.963131</td>\n",
       "      <td>23.795580</td>\n",
       "      <td>1.869157</td>\n",
       "    </tr>\n",
       "    <tr>\n",
       "      <td>min</td>\n",
       "      <td>1.986400e+04</td>\n",
       "      <td>2.016010e+13</td>\n",
       "      <td>1.745300e+04</td>\n",
       "      <td>0.000000</td>\n",
       "      <td>0.000000</td>\n",
       "      <td>0.000000</td>\n",
       "      <td>-37.851182</td>\n",
       "      <td>-123.124429</td>\n",
       "      <td>1.000000</td>\n",
       "      <td>0.000000</td>\n",
       "      <td>...</td>\n",
       "      <td>0.000000</td>\n",
       "      <td>20.000000</td>\n",
       "      <td>2.000000</td>\n",
       "      <td>2.000000</td>\n",
       "      <td>2.000000</td>\n",
       "      <td>2.000000</td>\n",
       "      <td>2.000000</td>\n",
       "      <td>2.000000</td>\n",
       "      <td>1.000000</td>\n",
       "      <td>0.020000</td>\n",
       "    </tr>\n",
       "    <tr>\n",
       "      <td>25%</td>\n",
       "      <td>5.510692e+06</td>\n",
       "      <td>2.017041e+13</td>\n",
       "      <td>6.855490e+06</td>\n",
       "      <td>100.000000</td>\n",
       "      <td>1.000000</td>\n",
       "      <td>1.000000</td>\n",
       "      <td>40.409758</td>\n",
       "      <td>-3.707538</td>\n",
       "      <td>2.000000</td>\n",
       "      <td>1.000000</td>\n",
       "      <td>...</td>\n",
       "      <td>1.000000</td>\n",
       "      <td>89.000000</td>\n",
       "      <td>9.000000</td>\n",
       "      <td>9.000000</td>\n",
       "      <td>9.000000</td>\n",
       "      <td>9.000000</td>\n",
       "      <td>9.000000</td>\n",
       "      <td>9.000000</td>\n",
       "      <td>1.000000</td>\n",
       "      <td>0.450000</td>\n",
       "    </tr>\n",
       "    <tr>\n",
       "      <td>50%</td>\n",
       "      <td>1.125754e+07</td>\n",
       "      <td>2.017041e+13</td>\n",
       "      <td>2.454770e+07</td>\n",
       "      <td>100.000000</td>\n",
       "      <td>2.000000</td>\n",
       "      <td>2.000000</td>\n",
       "      <td>40.419331</td>\n",
       "      <td>-3.700763</td>\n",
       "      <td>3.000000</td>\n",
       "      <td>1.000000</td>\n",
       "      <td>...</td>\n",
       "      <td>7.000000</td>\n",
       "      <td>94.000000</td>\n",
       "      <td>10.000000</td>\n",
       "      <td>10.000000</td>\n",
       "      <td>10.000000</td>\n",
       "      <td>10.000000</td>\n",
       "      <td>10.000000</td>\n",
       "      <td>9.000000</td>\n",
       "      <td>2.000000</td>\n",
       "      <td>1.210000</td>\n",
       "    </tr>\n",
       "    <tr>\n",
       "      <td>75%</td>\n",
       "      <td>1.531982e+07</td>\n",
       "      <td>2.017041e+13</td>\n",
       "      <td>5.431096e+07</td>\n",
       "      <td>100.000000</td>\n",
       "      <td>6.000000</td>\n",
       "      <td>6.000000</td>\n",
       "      <td>40.430778</td>\n",
       "      <td>-3.683917</td>\n",
       "      <td>4.000000</td>\n",
       "      <td>1.000000</td>\n",
       "      <td>...</td>\n",
       "      <td>27.000000</td>\n",
       "      <td>98.000000</td>\n",
       "      <td>10.000000</td>\n",
       "      <td>10.000000</td>\n",
       "      <td>10.000000</td>\n",
       "      <td>10.000000</td>\n",
       "      <td>10.000000</td>\n",
       "      <td>10.000000</td>\n",
       "      <td>5.000000</td>\n",
       "      <td>2.780000</td>\n",
       "    </tr>\n",
       "    <tr>\n",
       "      <td>max</td>\n",
       "      <td>1.858361e+07</td>\n",
       "      <td>2.017062e+13</td>\n",
       "      <td>1.247534e+08</td>\n",
       "      <td>100.000000</td>\n",
       "      <td>519.000000</td>\n",
       "      <td>519.000000</td>\n",
       "      <td>55.966912</td>\n",
       "      <td>153.371427</td>\n",
       "      <td>16.000000</td>\n",
       "      <td>8.000000</td>\n",
       "      <td>...</td>\n",
       "      <td>356.000000</td>\n",
       "      <td>100.000000</td>\n",
       "      <td>10.000000</td>\n",
       "      <td>10.000000</td>\n",
       "      <td>10.000000</td>\n",
       "      <td>10.000000</td>\n",
       "      <td>10.000000</td>\n",
       "      <td>10.000000</td>\n",
       "      <td>145.000000</td>\n",
       "      <td>17.210000</td>\n",
       "    </tr>\n",
       "  </tbody>\n",
       "</table>\n",
       "<p>8 rows × 36 columns</p>\n",
       "</div>"
      ],
      "text/plain": [
       "                 ID     Scrape ID       Host ID  Host Response Rate  \\\n",
       "count  1.182400e+04  1.182400e+04  1.182400e+04        10317.000000   \n",
       "mean   1.025308e+07  2.017038e+13  3.588310e+07           94.803722   \n",
       "std    5.566485e+06  5.505346e+08  3.411993e+07           15.247078   \n",
       "min    1.986400e+04  2.016010e+13  1.745300e+04            0.000000   \n",
       "25%    5.510692e+06  2.017041e+13  6.855490e+06          100.000000   \n",
       "50%    1.125754e+07  2.017041e+13  2.454770e+07          100.000000   \n",
       "75%    1.531982e+07  2.017041e+13  5.431096e+07          100.000000   \n",
       "max    1.858361e+07  2.017062e+13  1.247534e+08          100.000000   \n",
       "\n",
       "       Host Listings Count  Host Total Listings Count      Latitude  \\\n",
       "count         11821.000000               11821.000000  11824.000000   \n",
       "mean             12.754420                  12.754420     40.491628   \n",
       "std              34.578895                  34.578895      4.701030   \n",
       "min               0.000000                   0.000000    -37.851182   \n",
       "25%               1.000000                   1.000000     40.409758   \n",
       "50%               2.000000                   2.000000     40.419331   \n",
       "75%               6.000000                   6.000000     40.430778   \n",
       "max             519.000000                 519.000000     55.966912   \n",
       "\n",
       "          Longitude  Accommodates     Bathrooms  ...  Number of Reviews  \\\n",
       "count  11824.000000  11824.000000  11780.000000  ...       11824.000000   \n",
       "mean      -3.776863      3.277486      1.285229  ...          22.664834   \n",
       "std       14.014695      2.093973      0.664691  ...          38.092338   \n",
       "min     -123.124429      1.000000      0.000000  ...           0.000000   \n",
       "25%       -3.707538      2.000000      1.000000  ...           1.000000   \n",
       "50%       -3.700763      3.000000      1.000000  ...           7.000000   \n",
       "75%       -3.683917      4.000000      1.000000  ...          27.000000   \n",
       "max      153.371427     16.000000      8.000000  ...         356.000000   \n",
       "\n",
       "       Review Scores Rating  Review Scores Accuracy  \\\n",
       "count           9163.000000             9143.000000   \n",
       "mean              91.628179                9.410040   \n",
       "std                9.137614                0.938013   \n",
       "min               20.000000                2.000000   \n",
       "25%               89.000000                9.000000   \n",
       "50%               94.000000               10.000000   \n",
       "75%               98.000000               10.000000   \n",
       "max              100.000000               10.000000   \n",
       "\n",
       "       Review Scores Cleanliness  Review Scores Checkin  \\\n",
       "count                9148.000000            9136.000000   \n",
       "mean                    9.320726               9.623905   \n",
       "std                     1.004472               0.804050   \n",
       "min                     2.000000               2.000000   \n",
       "25%                     9.000000               9.000000   \n",
       "50%                    10.000000              10.000000   \n",
       "75%                    10.000000              10.000000   \n",
       "max                    10.000000              10.000000   \n",
       "\n",
       "       Review Scores Communication  Review Scores Location  \\\n",
       "count                  9147.000000             9133.000000   \n",
       "mean                      9.647863                9.534655   \n",
       "std                       0.765450                0.770421   \n",
       "min                       2.000000                2.000000   \n",
       "25%                       9.000000                9.000000   \n",
       "50%                      10.000000               10.000000   \n",
       "75%                      10.000000               10.000000   \n",
       "max                      10.000000               10.000000   \n",
       "\n",
       "       Review Scores Value  Calculated host listings count  Reviews per Month  \n",
       "count          9132.000000                    11820.000000        9285.000000  \n",
       "mean              9.211345                        9.615313           1.873326  \n",
       "std               0.963131                       23.795580           1.869157  \n",
       "min               2.000000                        1.000000           0.020000  \n",
       "25%               9.000000                        1.000000           0.450000  \n",
       "50%               9.000000                        2.000000           1.210000  \n",
       "75%              10.000000                        5.000000           2.780000  \n",
       "max              10.000000                      145.000000          17.210000  \n",
       "\n",
       "[8 rows x 36 columns]"
      ]
     },
     "execution_count": 7,
     "metadata": {},
     "output_type": "execute_result"
    }
   ],
   "source": [
    "train.describe()"
   ]
  },
  {
   "cell_type": "code",
   "execution_count": 8,
   "metadata": {},
   "outputs": [
    {
     "data": {
      "text/plain": [
       "ID                                  int64\n",
       "Listing Url                        object\n",
       "Scrape ID                           int64\n",
       "Last Scraped                       object\n",
       "Name                               object\n",
       "                                   ...   \n",
       "Cancellation Policy                object\n",
       "Calculated host listings count    float64\n",
       "Reviews per Month                 float64\n",
       "Geolocation                        object\n",
       "Features                           object\n",
       "Length: 89, dtype: object"
      ]
     },
     "execution_count": 8,
     "metadata": {},
     "output_type": "execute_result"
    }
   ],
   "source": [
    "train.dtypes"
   ]
  },
  {
   "cell_type": "code",
   "execution_count": 9,
   "metadata": {},
   "outputs": [
    {
     "data": {
      "text/plain": [
       "50.0     524\n",
       "60.0     445\n",
       "30.0     443\n",
       "25.0     429\n",
       "35.0     384\n",
       "        ... \n",
       "456.0      1\n",
       "454.0      1\n",
       "184.0      1\n",
       "907.0      1\n",
       "131.0      1\n",
       "Name: Price, Length: 345, dtype: int64"
      ]
     },
     "execution_count": 9,
     "metadata": {},
     "output_type": "execute_result"
    }
   ],
   "source": [
    "train['Price'].value_counts()"
   ]
  },
  {
   "cell_type": "code",
   "execution_count": 10,
   "metadata": {},
   "outputs": [
    {
     "data": {
      "text/plain": [
       "Index(['ID', 'Listing Url', 'Scrape ID', 'Last Scraped', 'Name', 'Summary',\n",
       "       'Space', 'Description', 'Experiences Offered', 'Neighborhood Overview',\n",
       "       'Notes', 'Transit', 'Access', 'Interaction', 'House Rules',\n",
       "       'Thumbnail Url', 'Medium Url', 'Picture Url', 'XL Picture Url',\n",
       "       'Host ID', 'Host URL', 'Host Name', 'Host Since', 'Host Location',\n",
       "       'Host About', 'Host Response Time', 'Host Response Rate',\n",
       "       'Host Acceptance Rate', 'Host Thumbnail Url', 'Host Picture Url',\n",
       "       'Host Neighbourhood', 'Host Listings Count',\n",
       "       'Host Total Listings Count', 'Host Verifications', 'Street',\n",
       "       'Neighbourhood', 'Neighbourhood Cleansed',\n",
       "       'Neighbourhood Group Cleansed', 'City', 'State', 'Zipcode', 'Market',\n",
       "       'Smart Location', 'Country Code', 'Country', 'Latitude', 'Longitude',\n",
       "       'Property Type', 'Room Type', 'Accommodates', 'Bathrooms', 'Bedrooms',\n",
       "       'Beds', 'Bed Type', 'Amenities', 'Square Feet', 'Price', 'Weekly Price',\n",
       "       'Monthly Price', 'Security Deposit', 'Cleaning Fee', 'Guests Included',\n",
       "       'Extra People', 'Minimum Nights', 'Maximum Nights', 'Calendar Updated',\n",
       "       'Has Availability', 'Availability 30', 'Availability 60',\n",
       "       'Availability 90', 'Availability 365', 'Calendar last Scraped',\n",
       "       'Number of Reviews', 'First Review', 'Last Review',\n",
       "       'Review Scores Rating', 'Review Scores Accuracy',\n",
       "       'Review Scores Cleanliness', 'Review Scores Checkin',\n",
       "       'Review Scores Communication', 'Review Scores Location',\n",
       "       'Review Scores Value', 'License', 'Jurisdiction Names',\n",
       "       'Cancellation Policy', 'Calculated host listings count',\n",
       "       'Reviews per Month', 'Geolocation', 'Features'],\n",
       "      dtype='object')"
      ]
     },
     "execution_count": 10,
     "metadata": {},
     "output_type": "execute_result"
    }
   ],
   "source": [
    "train.columns"
   ]
  },
  {
   "cell_type": "markdown",
   "metadata": {},
   "source": [
    "Hacemos una primera limpieza de variables que no queremos para nuestro modelo y nos quedamos con 20."
   ]
  },
  {
   "cell_type": "code",
   "execution_count": 11,
   "metadata": {},
   "outputs": [],
   "source": [
    "cols = ['Neighbourhood Cleansed','Neighbourhood','City',\n",
    "        'Property Type','Accommodates','Bathrooms', 'Bedrooms', 'Beds','Square Feet','Price', 'Security Deposit', 'Cleaning Fee',\n",
    "       'Guests Included', 'Extra People','Minimum Nights', 'Maximum Nights','Number of Reviews','Review Scores Rating', 'Cancellation Policy', 'Reviews per Month' ]\n",
    "\n",
    "train = train[cols]"
   ]
  },
  {
   "cell_type": "code",
   "execution_count": 12,
   "metadata": {},
   "outputs": [
    {
     "data": {
      "text/html": [
       "<div>\n",
       "<style scoped>\n",
       "    .dataframe tbody tr th:only-of-type {\n",
       "        vertical-align: middle;\n",
       "    }\n",
       "\n",
       "    .dataframe tbody tr th {\n",
       "        vertical-align: top;\n",
       "    }\n",
       "\n",
       "    .dataframe thead th {\n",
       "        text-align: right;\n",
       "    }\n",
       "</style>\n",
       "<table border=\"1\" class=\"dataframe\">\n",
       "  <thead>\n",
       "    <tr style=\"text-align: right;\">\n",
       "      <th></th>\n",
       "      <th>Neighbourhood Cleansed</th>\n",
       "      <th>Neighbourhood</th>\n",
       "      <th>City</th>\n",
       "      <th>Property Type</th>\n",
       "      <th>Accommodates</th>\n",
       "      <th>Bathrooms</th>\n",
       "      <th>Bedrooms</th>\n",
       "      <th>Beds</th>\n",
       "      <th>Square Feet</th>\n",
       "      <th>Price</th>\n",
       "      <th>Security Deposit</th>\n",
       "      <th>Cleaning Fee</th>\n",
       "      <th>Guests Included</th>\n",
       "      <th>Extra People</th>\n",
       "      <th>Minimum Nights</th>\n",
       "      <th>Maximum Nights</th>\n",
       "      <th>Number of Reviews</th>\n",
       "      <th>Review Scores Rating</th>\n",
       "      <th>Cancellation Policy</th>\n",
       "      <th>Reviews per Month</th>\n",
       "    </tr>\n",
       "  </thead>\n",
       "  <tbody>\n",
       "    <tr>\n",
       "      <td>0</td>\n",
       "      <td>Jerónimos</td>\n",
       "      <td>Jerónimos</td>\n",
       "      <td>Madrid</td>\n",
       "      <td>Apartment</td>\n",
       "      <td>4</td>\n",
       "      <td>1.0</td>\n",
       "      <td>1.0</td>\n",
       "      <td>2.0</td>\n",
       "      <td>NaN</td>\n",
       "      <td>60.0</td>\n",
       "      <td>NaN</td>\n",
       "      <td>25.0</td>\n",
       "      <td>1</td>\n",
       "      <td>0</td>\n",
       "      <td>2</td>\n",
       "      <td>1125</td>\n",
       "      <td>12</td>\n",
       "      <td>95.0</td>\n",
       "      <td>moderate</td>\n",
       "      <td>0.50</td>\n",
       "    </tr>\n",
       "    <tr>\n",
       "      <td>1</td>\n",
       "      <td>Sol</td>\n",
       "      <td>NaN</td>\n",
       "      <td>Madrid</td>\n",
       "      <td>Apartment</td>\n",
       "      <td>4</td>\n",
       "      <td>1.0</td>\n",
       "      <td>1.0</td>\n",
       "      <td>2.0</td>\n",
       "      <td>NaN</td>\n",
       "      <td>50.0</td>\n",
       "      <td>NaN</td>\n",
       "      <td>15.0</td>\n",
       "      <td>1</td>\n",
       "      <td>0</td>\n",
       "      <td>1</td>\n",
       "      <td>1125</td>\n",
       "      <td>20</td>\n",
       "      <td>91.0</td>\n",
       "      <td>flexible</td>\n",
       "      <td>2.43</td>\n",
       "    </tr>\n",
       "    <tr>\n",
       "      <td>2</td>\n",
       "      <td>Vista Alegre</td>\n",
       "      <td>Carabanchel</td>\n",
       "      <td>Madrid</td>\n",
       "      <td>Apartment</td>\n",
       "      <td>1</td>\n",
       "      <td>1.5</td>\n",
       "      <td>1.0</td>\n",
       "      <td>8.0</td>\n",
       "      <td>NaN</td>\n",
       "      <td>10.0</td>\n",
       "      <td>NaN</td>\n",
       "      <td>5.0</td>\n",
       "      <td>1</td>\n",
       "      <td>0</td>\n",
       "      <td>3</td>\n",
       "      <td>30</td>\n",
       "      <td>0</td>\n",
       "      <td>NaN</td>\n",
       "      <td>moderate</td>\n",
       "      <td>NaN</td>\n",
       "    </tr>\n",
       "    <tr>\n",
       "      <td>3</td>\n",
       "      <td>Embajadores</td>\n",
       "      <td>NaN</td>\n",
       "      <td>Madrid</td>\n",
       "      <td>Apartment</td>\n",
       "      <td>2</td>\n",
       "      <td>3.0</td>\n",
       "      <td>1.0</td>\n",
       "      <td>1.0</td>\n",
       "      <td>NaN</td>\n",
       "      <td>30.0</td>\n",
       "      <td>NaN</td>\n",
       "      <td>NaN</td>\n",
       "      <td>1</td>\n",
       "      <td>0</td>\n",
       "      <td>10</td>\n",
       "      <td>1125</td>\n",
       "      <td>0</td>\n",
       "      <td>NaN</td>\n",
       "      <td>strict</td>\n",
       "      <td>NaN</td>\n",
       "    </tr>\n",
       "    <tr>\n",
       "      <td>4</td>\n",
       "      <td>Gaztambide</td>\n",
       "      <td>Gaztambide</td>\n",
       "      <td>Madrid</td>\n",
       "      <td>Apartment</td>\n",
       "      <td>2</td>\n",
       "      <td>1.0</td>\n",
       "      <td>1.0</td>\n",
       "      <td>1.0</td>\n",
       "      <td>NaN</td>\n",
       "      <td>32.0</td>\n",
       "      <td>NaN</td>\n",
       "      <td>NaN</td>\n",
       "      <td>1</td>\n",
       "      <td>10</td>\n",
       "      <td>1</td>\n",
       "      <td>1125</td>\n",
       "      <td>97</td>\n",
       "      <td>92.0</td>\n",
       "      <td>strict</td>\n",
       "      <td>2.08</td>\n",
       "    </tr>\n",
       "  </tbody>\n",
       "</table>\n",
       "</div>"
      ],
      "text/plain": [
       "  Neighbourhood Cleansed Neighbourhood    City Property Type  Accommodates  \\\n",
       "0              Jerónimos     Jerónimos  Madrid     Apartment             4   \n",
       "1                    Sol           NaN  Madrid     Apartment             4   \n",
       "2           Vista Alegre   Carabanchel  Madrid     Apartment             1   \n",
       "3            Embajadores           NaN  Madrid     Apartment             2   \n",
       "4             Gaztambide    Gaztambide  Madrid     Apartment             2   \n",
       "\n",
       "   Bathrooms  Bedrooms  Beds  Square Feet  Price  Security Deposit  \\\n",
       "0        1.0       1.0   2.0          NaN   60.0               NaN   \n",
       "1        1.0       1.0   2.0          NaN   50.0               NaN   \n",
       "2        1.5       1.0   8.0          NaN   10.0               NaN   \n",
       "3        3.0       1.0   1.0          NaN   30.0               NaN   \n",
       "4        1.0       1.0   1.0          NaN   32.0               NaN   \n",
       "\n",
       "   Cleaning Fee  Guests Included  Extra People  Minimum Nights  \\\n",
       "0          25.0                1             0               2   \n",
       "1          15.0                1             0               1   \n",
       "2           5.0                1             0               3   \n",
       "3           NaN                1             0              10   \n",
       "4           NaN                1            10               1   \n",
       "\n",
       "   Maximum Nights  Number of Reviews  Review Scores Rating  \\\n",
       "0            1125                 12                  95.0   \n",
       "1            1125                 20                  91.0   \n",
       "2              30                  0                   NaN   \n",
       "3            1125                  0                   NaN   \n",
       "4            1125                 97                  92.0   \n",
       "\n",
       "  Cancellation Policy  Reviews per Month  \n",
       "0            moderate               0.50  \n",
       "1            flexible               2.43  \n",
       "2            moderate                NaN  \n",
       "3              strict                NaN  \n",
       "4              strict               2.08  "
      ]
     },
     "execution_count": 12,
     "metadata": {},
     "output_type": "execute_result"
    }
   ],
   "source": [
    "train.head()"
   ]
  },
  {
   "cell_type": "code",
   "execution_count": 13,
   "metadata": {},
   "outputs": [
    {
     "data": {
      "text/plain": [
       "(11824, 20)"
      ]
     },
     "execution_count": 13,
     "metadata": {},
     "output_type": "execute_result"
    }
   ],
   "source": [
    "train.shape"
   ]
  },
  {
   "cell_type": "markdown",
   "metadata": {},
   "source": [
    "Hacemos un primer filtrado en City ya que queremos quedarnos solamente con los valores pertenecientes a Madrid."
   ]
  },
  {
   "cell_type": "code",
   "execution_count": 14,
   "metadata": {},
   "outputs": [
    {
     "data": {
      "text/plain": [
       "City\n",
       "Madrid    10567\n",
       "dtype: int64"
      ]
     },
     "execution_count": 14,
     "metadata": {},
     "output_type": "execute_result"
    }
   ],
   "source": [
    "Madrid = train['City'] == 'Madrid'\n",
    "train = train[Madrid]\n",
    "train.groupby(['City']).size()"
   ]
  },
  {
   "cell_type": "markdown",
   "metadata": {},
   "source": [
    "Creamos una nueva variable."
   ]
  },
  {
   "cell_type": "code",
   "execution_count": 15,
   "metadata": {},
   "outputs": [],
   "source": [
    "train['Bedrooms_per_accommodate'] = train['Bedrooms']/train['Accommodates']"
   ]
  },
  {
   "cell_type": "markdown",
   "metadata": {},
   "source": [
    "Volvemos a hacer el describe para ver qué valores tenemos que imputar."
   ]
  },
  {
   "cell_type": "code",
   "execution_count": 16,
   "metadata": {},
   "outputs": [
    {
     "data": {
      "text/html": [
       "<div>\n",
       "<style scoped>\n",
       "    .dataframe tbody tr th:only-of-type {\n",
       "        vertical-align: middle;\n",
       "    }\n",
       "\n",
       "    .dataframe tbody tr th {\n",
       "        vertical-align: top;\n",
       "    }\n",
       "\n",
       "    .dataframe thead th {\n",
       "        text-align: right;\n",
       "    }\n",
       "</style>\n",
       "<table border=\"1\" class=\"dataframe\">\n",
       "  <thead>\n",
       "    <tr style=\"text-align: right;\">\n",
       "      <th></th>\n",
       "      <th>Accommodates</th>\n",
       "      <th>Bathrooms</th>\n",
       "      <th>Bedrooms</th>\n",
       "      <th>Beds</th>\n",
       "      <th>Square Feet</th>\n",
       "      <th>Price</th>\n",
       "      <th>Security Deposit</th>\n",
       "      <th>Cleaning Fee</th>\n",
       "      <th>Guests Included</th>\n",
       "      <th>Extra People</th>\n",
       "      <th>Minimum Nights</th>\n",
       "      <th>Maximum Nights</th>\n",
       "      <th>Number of Reviews</th>\n",
       "      <th>Review Scores Rating</th>\n",
       "      <th>Reviews per Month</th>\n",
       "      <th>Bedrooms_per_accommodate</th>\n",
       "    </tr>\n",
       "  </thead>\n",
       "  <tbody>\n",
       "    <tr>\n",
       "      <td>count</td>\n",
       "      <td>10567.000000</td>\n",
       "      <td>10527.000000</td>\n",
       "      <td>10549.000000</td>\n",
       "      <td>10530.000000</td>\n",
       "      <td>413.000000</td>\n",
       "      <td>10559.00000</td>\n",
       "      <td>4549.000000</td>\n",
       "      <td>6282.000000</td>\n",
       "      <td>10567.000000</td>\n",
       "      <td>10567.000000</td>\n",
       "      <td>10567.000000</td>\n",
       "      <td>10567.000000</td>\n",
       "      <td>10567.000000</td>\n",
       "      <td>8281.000000</td>\n",
       "      <td>8388.000000</td>\n",
       "      <td>10549.000000</td>\n",
       "    </tr>\n",
       "    <tr>\n",
       "      <td>mean</td>\n",
       "      <td>3.188228</td>\n",
       "      <td>1.256863</td>\n",
       "      <td>1.294909</td>\n",
       "      <td>1.992688</td>\n",
       "      <td>375.266344</td>\n",
       "      <td>66.18515</td>\n",
       "      <td>183.864586</td>\n",
       "      <td>30.025310</td>\n",
       "      <td>1.569225</td>\n",
       "      <td>7.422920</td>\n",
       "      <td>3.091984</td>\n",
       "      <td>976.684016</td>\n",
       "      <td>23.163055</td>\n",
       "      <td>91.584833</td>\n",
       "      <td>1.927200</td>\n",
       "      <td>0.485408</td>\n",
       "    </tr>\n",
       "    <tr>\n",
       "      <td>std</td>\n",
       "      <td>1.989624</td>\n",
       "      <td>0.608184</td>\n",
       "      <td>0.833250</td>\n",
       "      <td>1.529786</td>\n",
       "      <td>556.981908</td>\n",
       "      <td>56.16416</td>\n",
       "      <td>110.595924</td>\n",
       "      <td>27.097579</td>\n",
       "      <td>1.072125</td>\n",
       "      <td>10.616849</td>\n",
       "      <td>14.131654</td>\n",
       "      <td>9928.723799</td>\n",
       "      <td>38.364933</td>\n",
       "      <td>9.111923</td>\n",
       "      <td>1.891259</td>\n",
       "      <td>0.323166</td>\n",
       "    </tr>\n",
       "    <tr>\n",
       "      <td>min</td>\n",
       "      <td>1.000000</td>\n",
       "      <td>0.000000</td>\n",
       "      <td>0.000000</td>\n",
       "      <td>1.000000</td>\n",
       "      <td>0.000000</td>\n",
       "      <td>9.00000</td>\n",
       "      <td>70.000000</td>\n",
       "      <td>5.000000</td>\n",
       "      <td>1.000000</td>\n",
       "      <td>0.000000</td>\n",
       "      <td>1.000000</td>\n",
       "      <td>1.000000</td>\n",
       "      <td>0.000000</td>\n",
       "      <td>20.000000</td>\n",
       "      <td>0.020000</td>\n",
       "      <td>0.000000</td>\n",
       "    </tr>\n",
       "    <tr>\n",
       "      <td>25%</td>\n",
       "      <td>2.000000</td>\n",
       "      <td>1.000000</td>\n",
       "      <td>1.000000</td>\n",
       "      <td>1.000000</td>\n",
       "      <td>0.000000</td>\n",
       "      <td>31.00000</td>\n",
       "      <td>100.000000</td>\n",
       "      <td>15.000000</td>\n",
       "      <td>1.000000</td>\n",
       "      <td>0.000000</td>\n",
       "      <td>1.000000</td>\n",
       "      <td>365.000000</td>\n",
       "      <td>1.000000</td>\n",
       "      <td>88.000000</td>\n",
       "      <td>0.480000</td>\n",
       "      <td>0.333333</td>\n",
       "    </tr>\n",
       "    <tr>\n",
       "      <td>50%</td>\n",
       "      <td>2.000000</td>\n",
       "      <td>1.000000</td>\n",
       "      <td>1.000000</td>\n",
       "      <td>1.000000</td>\n",
       "      <td>97.000000</td>\n",
       "      <td>53.00000</td>\n",
       "      <td>150.000000</td>\n",
       "      <td>25.000000</td>\n",
       "      <td>1.000000</td>\n",
       "      <td>0.000000</td>\n",
       "      <td>2.000000</td>\n",
       "      <td>1125.000000</td>\n",
       "      <td>7.000000</td>\n",
       "      <td>94.000000</td>\n",
       "      <td>1.270000</td>\n",
       "      <td>0.500000</td>\n",
       "    </tr>\n",
       "    <tr>\n",
       "      <td>75%</td>\n",
       "      <td>4.000000</td>\n",
       "      <td>1.000000</td>\n",
       "      <td>2.000000</td>\n",
       "      <td>2.000000</td>\n",
       "      <td>646.000000</td>\n",
       "      <td>80.00000</td>\n",
       "      <td>200.000000</td>\n",
       "      <td>35.000000</td>\n",
       "      <td>2.000000</td>\n",
       "      <td>14.000000</td>\n",
       "      <td>3.000000</td>\n",
       "      <td>1125.000000</td>\n",
       "      <td>28.000000</td>\n",
       "      <td>98.000000</td>\n",
       "      <td>2.880000</td>\n",
       "      <td>0.500000</td>\n",
       "    </tr>\n",
       "    <tr>\n",
       "      <td>max</td>\n",
       "      <td>16.000000</td>\n",
       "      <td>8.000000</td>\n",
       "      <td>10.000000</td>\n",
       "      <td>16.000000</td>\n",
       "      <td>5167.000000</td>\n",
       "      <td>875.00000</td>\n",
       "      <td>990.000000</td>\n",
       "      <td>500.000000</td>\n",
       "      <td>16.000000</td>\n",
       "      <td>276.000000</td>\n",
       "      <td>1125.000000</td>\n",
       "      <td>1000000.000000</td>\n",
       "      <td>356.000000</td>\n",
       "      <td>100.000000</td>\n",
       "      <td>17.210000</td>\n",
       "      <td>10.000000</td>\n",
       "    </tr>\n",
       "  </tbody>\n",
       "</table>\n",
       "</div>"
      ],
      "text/plain": [
       "       Accommodates     Bathrooms      Bedrooms          Beds  Square Feet  \\\n",
       "count  10567.000000  10527.000000  10549.000000  10530.000000   413.000000   \n",
       "mean       3.188228      1.256863      1.294909      1.992688   375.266344   \n",
       "std        1.989624      0.608184      0.833250      1.529786   556.981908   \n",
       "min        1.000000      0.000000      0.000000      1.000000     0.000000   \n",
       "25%        2.000000      1.000000      1.000000      1.000000     0.000000   \n",
       "50%        2.000000      1.000000      1.000000      1.000000    97.000000   \n",
       "75%        4.000000      1.000000      2.000000      2.000000   646.000000   \n",
       "max       16.000000      8.000000     10.000000     16.000000  5167.000000   \n",
       "\n",
       "             Price  Security Deposit  Cleaning Fee  Guests Included  \\\n",
       "count  10559.00000       4549.000000   6282.000000     10567.000000   \n",
       "mean      66.18515        183.864586     30.025310         1.569225   \n",
       "std       56.16416        110.595924     27.097579         1.072125   \n",
       "min        9.00000         70.000000      5.000000         1.000000   \n",
       "25%       31.00000        100.000000     15.000000         1.000000   \n",
       "50%       53.00000        150.000000     25.000000         1.000000   \n",
       "75%       80.00000        200.000000     35.000000         2.000000   \n",
       "max      875.00000        990.000000    500.000000        16.000000   \n",
       "\n",
       "       Extra People  Minimum Nights  Maximum Nights  Number of Reviews  \\\n",
       "count  10567.000000    10567.000000    10567.000000       10567.000000   \n",
       "mean       7.422920        3.091984      976.684016          23.163055   \n",
       "std       10.616849       14.131654     9928.723799          38.364933   \n",
       "min        0.000000        1.000000        1.000000           0.000000   \n",
       "25%        0.000000        1.000000      365.000000           1.000000   \n",
       "50%        0.000000        2.000000     1125.000000           7.000000   \n",
       "75%       14.000000        3.000000     1125.000000          28.000000   \n",
       "max      276.000000     1125.000000  1000000.000000         356.000000   \n",
       "\n",
       "       Review Scores Rating  Reviews per Month  Bedrooms_per_accommodate  \n",
       "count           8281.000000        8388.000000              10549.000000  \n",
       "mean              91.584833           1.927200                  0.485408  \n",
       "std                9.111923           1.891259                  0.323166  \n",
       "min               20.000000           0.020000                  0.000000  \n",
       "25%               88.000000           0.480000                  0.333333  \n",
       "50%               94.000000           1.270000                  0.500000  \n",
       "75%               98.000000           2.880000                  0.500000  \n",
       "max              100.000000          17.210000                 10.000000  "
      ]
     },
     "execution_count": 16,
     "metadata": {},
     "output_type": "execute_result"
    }
   ],
   "source": [
    "train.describe()"
   ]
  },
  {
   "cell_type": "markdown",
   "metadata": {},
   "source": [
    "Antes, vemos el porcentaje de NAs para ver si merece la pena imputar o no. Si lo hacemos y el porcentaje de datos es mínimo, lo unico que conseguiremos es tener mucho ruido.\n",
    "Vemos que en los Square Feet tenemos muchísimos nulos, por lo tanto la eliminamos, para el resto, imputaremos valores con la media."
   ]
  },
  {
   "cell_type": "code",
   "execution_count": 17,
   "metadata": {},
   "outputs": [
    {
     "name": "stdout",
     "output_type": "stream",
     "text": [
      "Neighbourhood Cleansed          0\n",
      "Neighbourhood                3527\n",
      "City                            0\n",
      "Property Type                   0\n",
      "Accommodates                    0\n",
      "Bathrooms                      40\n",
      "Bedrooms                       18\n",
      "Beds                           37\n",
      "Square Feet                 10154\n",
      "Price                           8\n",
      "Security Deposit             6018\n",
      "Cleaning Fee                 4285\n",
      "Guests Included                 0\n",
      "Extra People                    0\n",
      "Minimum Nights                  0\n",
      "Maximum Nights                  0\n",
      "Number of Reviews               0\n",
      "Review Scores Rating         2286\n",
      "Cancellation Policy             0\n",
      "Reviews per Month            2179\n",
      "Bedrooms_per_accommodate       18\n",
      "dtype: int64\n"
     ]
    }
   ],
   "source": [
    "print(train.isnull().sum())"
   ]
  },
  {
   "cell_type": "code",
   "execution_count": 18,
   "metadata": {},
   "outputs": [],
   "source": [
    "train = train.drop(['Square Feet'], axis=1)"
   ]
  },
  {
   "cell_type": "markdown",
   "metadata": {},
   "source": [
    "También borramos la variable City ya que solo tiene un valor: Madrid"
   ]
  },
  {
   "cell_type": "code",
   "execution_count": 19,
   "metadata": {},
   "outputs": [],
   "source": [
    "train = train.drop(['City'], axis=1)"
   ]
  },
  {
   "cell_type": "markdown",
   "metadata": {},
   "source": [
    "Procedemos a imputar valores de las variables: Bathrooms, Bedrooms, Beds, Price, Security Deposit, Cleaning Fee, Review Scores Rating, Reviews per Month.\n"
   ]
  },
  {
   "cell_type": "code",
   "execution_count": 20,
   "metadata": {},
   "outputs": [
    {
     "data": {
      "text/plain": [
       "Neighbourhood Cleansed       object\n",
       "Neighbourhood                object\n",
       "Property Type                object\n",
       "Accommodates                  int64\n",
       "Bathrooms                   float64\n",
       "Bedrooms                    float64\n",
       "Beds                        float64\n",
       "Price                       float64\n",
       "Security Deposit            float64\n",
       "Cleaning Fee                float64\n",
       "Guests Included               int64\n",
       "Extra People                  int64\n",
       "Minimum Nights                int64\n",
       "Maximum Nights                int64\n",
       "Number of Reviews             int64\n",
       "Review Scores Rating        float64\n",
       "Cancellation Policy          object\n",
       "Reviews per Month           float64\n",
       "Bedrooms_per_accommodate    float64\n",
       "dtype: object"
      ]
     },
     "execution_count": 20,
     "metadata": {},
     "output_type": "execute_result"
    }
   ],
   "source": [
    "train.dtypes"
   ]
  },
  {
   "cell_type": "code",
   "execution_count": 21,
   "metadata": {},
   "outputs": [
    {
     "data": {
      "text/plain": [
       "Accommodates                  3.188228\n",
       "Bathrooms                     1.256863\n",
       "Bedrooms                      1.294909\n",
       "Beds                          1.992688\n",
       "Price                        66.185150\n",
       "Security Deposit            183.864586\n",
       "Cleaning Fee                 30.025310\n",
       "Guests Included               1.569225\n",
       "Extra People                  7.422920\n",
       "Minimum Nights                3.091984\n",
       "Maximum Nights              976.684016\n",
       "Number of Reviews            23.163055\n",
       "Review Scores Rating         91.584833\n",
       "Reviews per Month             1.927200\n",
       "Bedrooms_per_accommodate      0.485408\n",
       "dtype: float64"
      ]
     },
     "execution_count": 21,
     "metadata": {},
     "output_type": "execute_result"
    }
   ],
   "source": [
    "train.mean()"
   ]
  },
  {
   "cell_type": "code",
   "execution_count": 22,
   "metadata": {},
   "outputs": [],
   "source": [
    "mediabedrooms = train['Bedrooms'].mean()\n",
    "mediabathrooms = train['Bathrooms'].mean()\n",
    "mediabeds  = train['Beds'].mean()\n",
    "mediareviewscores = train['Review Scores Rating'].mean()\n",
    "mediareviewsmoth = train['Reviews per Month'].mean()\n",
    "mediabedroomsaccom = train['Bedrooms_per_accommodate'].mean()\n",
    "mediaprice = train['Price'].mean()"
   ]
  },
  {
   "cell_type": "code",
   "execution_count": 23,
   "metadata": {},
   "outputs": [],
   "source": [
    "train[\"Bedrooms\"] = train['Bedrooms'].fillna(mediabedrooms)\n",
    "train[\"Bathrooms\"] = train['Bathrooms'].fillna(mediabathrooms)\n",
    "train[\"Beds\"]  = train['Beds'].fillna(mediabeds)\n",
    "train[\"Review Scores Rating\"] = train['Review Scores Rating'].fillna(mediareviewscores)\n",
    "train[\"Reviews per Month\"] = train['Reviews per Month'].fillna(mediareviewsmoth)\n",
    "train['Bedrooms_per_accommodate'] = train['Bedrooms_per_accommodate'].fillna(mediabedroomsaccom)\n",
    "train[\"Price\"] = train['Price'].fillna(mediaprice)"
   ]
  },
  {
   "cell_type": "markdown",
   "metadata": {},
   "source": [
    "Los valores NAN de Neighbourhood los meteremos en una categoría nueva 'Unknown'"
   ]
  },
  {
   "cell_type": "code",
   "execution_count": 24,
   "metadata": {},
   "outputs": [],
   "source": [
    "train['Neighbourhood'] = train['Neighbourhood'].fillna('Unknown')"
   ]
  },
  {
   "cell_type": "markdown",
   "metadata": {},
   "source": [
    "En el caso de Security Deposit y Cleaning Fee, entendemos que los valores NaN equivalen a 0."
   ]
  },
  {
   "cell_type": "code",
   "execution_count": 25,
   "metadata": {},
   "outputs": [],
   "source": [
    "train[\"Security Deposit\"] = train['Security Deposit'].fillna(0)\n",
    "train[\"Cleaning Fee\"] = train['Cleaning Fee'].fillna(0)"
   ]
  },
  {
   "cell_type": "code",
   "execution_count": 26,
   "metadata": {},
   "outputs": [
    {
     "name": "stdout",
     "output_type": "stream",
     "text": [
      "Neighbourhood Cleansed      0\n",
      "Neighbourhood               0\n",
      "Property Type               0\n",
      "Accommodates                0\n",
      "Bathrooms                   0\n",
      "Bedrooms                    0\n",
      "Beds                        0\n",
      "Price                       0\n",
      "Security Deposit            0\n",
      "Cleaning Fee                0\n",
      "Guests Included             0\n",
      "Extra People                0\n",
      "Minimum Nights              0\n",
      "Maximum Nights              0\n",
      "Number of Reviews           0\n",
      "Review Scores Rating        0\n",
      "Cancellation Policy         0\n",
      "Reviews per Month           0\n",
      "Bedrooms_per_accommodate    0\n",
      "dtype: int64\n"
     ]
    }
   ],
   "source": [
    "print(train.isnull().sum())"
   ]
  },
  {
   "cell_type": "markdown",
   "metadata": {},
   "source": [
    "Pasamos a dummy las variables categóricas utilizando el mean encoder para la mayoría y el label encoder en Cancellation Policy debido a las escasas combinaciones que tiene."
   ]
  },
  {
   "cell_type": "code",
   "execution_count": 27,
   "metadata": {},
   "outputs": [],
   "source": [
    "categorical = ['Neighbourhood', 'Neighbourhood Cleansed', 'Property Type']\n",
    "\n",
    "mean_map = {}\n",
    "for c in categorical:\n",
    "    mean = train.groupby(c)['Price'].mean()\n",
    "    train[c] = train[c].map(mean)    \n",
    "    mean_map[c] = mean"
   ]
  },
  {
   "cell_type": "code",
   "execution_count": 28,
   "metadata": {},
   "outputs": [],
   "source": [
    "from sklearn.preprocessing import LabelEncoder\n",
    "labelencoder = LabelEncoder()\n",
    "train['Cancellation Policy'] = labelencoder.fit_transform(train['Cancellation Policy'])"
   ]
  },
  {
   "cell_type": "code",
   "execution_count": 29,
   "metadata": {},
   "outputs": [
    {
     "name": "stdout",
     "output_type": "stream",
     "text": [
      "Neighbourhood Cleansed      0\n",
      "Neighbourhood               0\n",
      "Property Type               0\n",
      "Accommodates                0\n",
      "Bathrooms                   0\n",
      "Bedrooms                    0\n",
      "Beds                        0\n",
      "Price                       0\n",
      "Security Deposit            0\n",
      "Cleaning Fee                0\n",
      "Guests Included             0\n",
      "Extra People                0\n",
      "Minimum Nights              0\n",
      "Maximum Nights              0\n",
      "Number of Reviews           0\n",
      "Review Scores Rating        0\n",
      "Cancellation Policy         0\n",
      "Reviews per Month           0\n",
      "Bedrooms_per_accommodate    0\n",
      "dtype: int64\n"
     ]
    }
   ],
   "source": [
    "print(train.isnull().sum())"
   ]
  },
  {
   "cell_type": "code",
   "execution_count": 30,
   "metadata": {},
   "outputs": [
    {
     "data": {
      "text/html": [
       "<div>\n",
       "<style scoped>\n",
       "    .dataframe tbody tr th:only-of-type {\n",
       "        vertical-align: middle;\n",
       "    }\n",
       "\n",
       "    .dataframe tbody tr th {\n",
       "        vertical-align: top;\n",
       "    }\n",
       "\n",
       "    .dataframe thead th {\n",
       "        text-align: right;\n",
       "    }\n",
       "</style>\n",
       "<table border=\"1\" class=\"dataframe\">\n",
       "  <thead>\n",
       "    <tr style=\"text-align: right;\">\n",
       "      <th></th>\n",
       "      <th>Neighbourhood Cleansed</th>\n",
       "      <th>Neighbourhood</th>\n",
       "      <th>Property Type</th>\n",
       "      <th>Accommodates</th>\n",
       "      <th>Bathrooms</th>\n",
       "      <th>Bedrooms</th>\n",
       "      <th>Beds</th>\n",
       "      <th>Price</th>\n",
       "      <th>Security Deposit</th>\n",
       "      <th>Cleaning Fee</th>\n",
       "      <th>Guests Included</th>\n",
       "      <th>Extra People</th>\n",
       "      <th>Minimum Nights</th>\n",
       "      <th>Maximum Nights</th>\n",
       "      <th>Number of Reviews</th>\n",
       "      <th>Review Scores Rating</th>\n",
       "      <th>Cancellation Policy</th>\n",
       "      <th>Reviews per Month</th>\n",
       "      <th>Bedrooms_per_accommodate</th>\n",
       "    </tr>\n",
       "  </thead>\n",
       "  <tbody>\n",
       "    <tr>\n",
       "      <td>0</td>\n",
       "      <td>104.600000</td>\n",
       "      <td>112.162791</td>\n",
       "      <td>67.743957</td>\n",
       "      <td>4</td>\n",
       "      <td>1.0</td>\n",
       "      <td>1.0</td>\n",
       "      <td>2.0</td>\n",
       "      <td>60.0</td>\n",
       "      <td>0.0</td>\n",
       "      <td>25.0</td>\n",
       "      <td>1</td>\n",
       "      <td>0</td>\n",
       "      <td>2</td>\n",
       "      <td>1125</td>\n",
       "      <td>12</td>\n",
       "      <td>95.000000</td>\n",
       "      <td>1</td>\n",
       "      <td>0.5000</td>\n",
       "      <td>0.250000</td>\n",
       "    </tr>\n",
       "    <tr>\n",
       "      <td>1</td>\n",
       "      <td>85.822309</td>\n",
       "      <td>59.850119</td>\n",
       "      <td>67.743957</td>\n",
       "      <td>4</td>\n",
       "      <td>1.0</td>\n",
       "      <td>1.0</td>\n",
       "      <td>2.0</td>\n",
       "      <td>50.0</td>\n",
       "      <td>0.0</td>\n",
       "      <td>15.0</td>\n",
       "      <td>1</td>\n",
       "      <td>0</td>\n",
       "      <td>1</td>\n",
       "      <td>1125</td>\n",
       "      <td>20</td>\n",
       "      <td>91.000000</td>\n",
       "      <td>0</td>\n",
       "      <td>2.4300</td>\n",
       "      <td>0.250000</td>\n",
       "    </tr>\n",
       "    <tr>\n",
       "      <td>2</td>\n",
       "      <td>37.074074</td>\n",
       "      <td>39.898089</td>\n",
       "      <td>67.743957</td>\n",
       "      <td>1</td>\n",
       "      <td>1.5</td>\n",
       "      <td>1.0</td>\n",
       "      <td>8.0</td>\n",
       "      <td>10.0</td>\n",
       "      <td>0.0</td>\n",
       "      <td>5.0</td>\n",
       "      <td>1</td>\n",
       "      <td>0</td>\n",
       "      <td>3</td>\n",
       "      <td>30</td>\n",
       "      <td>0</td>\n",
       "      <td>91.584833</td>\n",
       "      <td>1</td>\n",
       "      <td>1.9272</td>\n",
       "      <td>1.000000</td>\n",
       "    </tr>\n",
       "    <tr>\n",
       "      <td>3</td>\n",
       "      <td>60.709388</td>\n",
       "      <td>59.850119</td>\n",
       "      <td>67.743957</td>\n",
       "      <td>2</td>\n",
       "      <td>3.0</td>\n",
       "      <td>1.0</td>\n",
       "      <td>1.0</td>\n",
       "      <td>30.0</td>\n",
       "      <td>0.0</td>\n",
       "      <td>0.0</td>\n",
       "      <td>1</td>\n",
       "      <td>0</td>\n",
       "      <td>10</td>\n",
       "      <td>1125</td>\n",
       "      <td>0</td>\n",
       "      <td>91.584833</td>\n",
       "      <td>2</td>\n",
       "      <td>1.9272</td>\n",
       "      <td>0.500000</td>\n",
       "    </tr>\n",
       "    <tr>\n",
       "      <td>4</td>\n",
       "      <td>56.000000</td>\n",
       "      <td>56.986301</td>\n",
       "      <td>67.743957</td>\n",
       "      <td>2</td>\n",
       "      <td>1.0</td>\n",
       "      <td>1.0</td>\n",
       "      <td>1.0</td>\n",
       "      <td>32.0</td>\n",
       "      <td>0.0</td>\n",
       "      <td>0.0</td>\n",
       "      <td>1</td>\n",
       "      <td>10</td>\n",
       "      <td>1</td>\n",
       "      <td>1125</td>\n",
       "      <td>97</td>\n",
       "      <td>92.000000</td>\n",
       "      <td>2</td>\n",
       "      <td>2.0800</td>\n",
       "      <td>0.500000</td>\n",
       "    </tr>\n",
       "    <tr>\n",
       "      <td>...</td>\n",
       "      <td>...</td>\n",
       "      <td>...</td>\n",
       "      <td>...</td>\n",
       "      <td>...</td>\n",
       "      <td>...</td>\n",
       "      <td>...</td>\n",
       "      <td>...</td>\n",
       "      <td>...</td>\n",
       "      <td>...</td>\n",
       "      <td>...</td>\n",
       "      <td>...</td>\n",
       "      <td>...</td>\n",
       "      <td>...</td>\n",
       "      <td>...</td>\n",
       "      <td>...</td>\n",
       "      <td>...</td>\n",
       "      <td>...</td>\n",
       "      <td>...</td>\n",
       "      <td>...</td>\n",
       "    </tr>\n",
       "    <tr>\n",
       "      <td>11819</td>\n",
       "      <td>65.102709</td>\n",
       "      <td>59.967332</td>\n",
       "      <td>67.743957</td>\n",
       "      <td>3</td>\n",
       "      <td>1.0</td>\n",
       "      <td>2.0</td>\n",
       "      <td>2.0</td>\n",
       "      <td>52.0</td>\n",
       "      <td>0.0</td>\n",
       "      <td>16.0</td>\n",
       "      <td>1</td>\n",
       "      <td>0</td>\n",
       "      <td>3</td>\n",
       "      <td>1125</td>\n",
       "      <td>0</td>\n",
       "      <td>91.584833</td>\n",
       "      <td>1</td>\n",
       "      <td>1.9272</td>\n",
       "      <td>0.666667</td>\n",
       "    </tr>\n",
       "    <tr>\n",
       "      <td>11820</td>\n",
       "      <td>29.114286</td>\n",
       "      <td>34.824176</td>\n",
       "      <td>67.743957</td>\n",
       "      <td>6</td>\n",
       "      <td>1.0</td>\n",
       "      <td>3.0</td>\n",
       "      <td>3.0</td>\n",
       "      <td>55.0</td>\n",
       "      <td>200.0</td>\n",
       "      <td>30.0</td>\n",
       "      <td>5</td>\n",
       "      <td>20</td>\n",
       "      <td>1</td>\n",
       "      <td>1125</td>\n",
       "      <td>68</td>\n",
       "      <td>89.000000</td>\n",
       "      <td>2</td>\n",
       "      <td>2.9200</td>\n",
       "      <td>0.500000</td>\n",
       "    </tr>\n",
       "    <tr>\n",
       "      <td>11821</td>\n",
       "      <td>77.316536</td>\n",
       "      <td>59.850119</td>\n",
       "      <td>67.743957</td>\n",
       "      <td>2</td>\n",
       "      <td>1.0</td>\n",
       "      <td>1.0</td>\n",
       "      <td>1.0</td>\n",
       "      <td>69.0</td>\n",
       "      <td>0.0</td>\n",
       "      <td>30.0</td>\n",
       "      <td>2</td>\n",
       "      <td>40</td>\n",
       "      <td>1</td>\n",
       "      <td>1125</td>\n",
       "      <td>24</td>\n",
       "      <td>94.000000</td>\n",
       "      <td>2</td>\n",
       "      <td>2.0600</td>\n",
       "      <td>0.500000</td>\n",
       "    </tr>\n",
       "    <tr>\n",
       "      <td>11822</td>\n",
       "      <td>77.316536</td>\n",
       "      <td>71.183644</td>\n",
       "      <td>67.743957</td>\n",
       "      <td>2</td>\n",
       "      <td>1.0</td>\n",
       "      <td>1.0</td>\n",
       "      <td>1.0</td>\n",
       "      <td>69.0</td>\n",
       "      <td>0.0</td>\n",
       "      <td>25.0</td>\n",
       "      <td>1</td>\n",
       "      <td>0</td>\n",
       "      <td>2</td>\n",
       "      <td>15</td>\n",
       "      <td>19</td>\n",
       "      <td>98.000000</td>\n",
       "      <td>2</td>\n",
       "      <td>3.3900</td>\n",
       "      <td>0.500000</td>\n",
       "    </tr>\n",
       "    <tr>\n",
       "      <td>11823</td>\n",
       "      <td>65.691589</td>\n",
       "      <td>59.850119</td>\n",
       "      <td>67.743957</td>\n",
       "      <td>1</td>\n",
       "      <td>1.0</td>\n",
       "      <td>1.0</td>\n",
       "      <td>1.0</td>\n",
       "      <td>25.0</td>\n",
       "      <td>0.0</td>\n",
       "      <td>0.0</td>\n",
       "      <td>1</td>\n",
       "      <td>0</td>\n",
       "      <td>1</td>\n",
       "      <td>1125</td>\n",
       "      <td>4</td>\n",
       "      <td>85.000000</td>\n",
       "      <td>2</td>\n",
       "      <td>0.3400</td>\n",
       "      <td>1.000000</td>\n",
       "    </tr>\n",
       "  </tbody>\n",
       "</table>\n",
       "<p>10567 rows × 19 columns</p>\n",
       "</div>"
      ],
      "text/plain": [
       "       Neighbourhood Cleansed  Neighbourhood  Property Type  Accommodates  \\\n",
       "0                  104.600000     112.162791      67.743957             4   \n",
       "1                   85.822309      59.850119      67.743957             4   \n",
       "2                   37.074074      39.898089      67.743957             1   \n",
       "3                   60.709388      59.850119      67.743957             2   \n",
       "4                   56.000000      56.986301      67.743957             2   \n",
       "...                       ...            ...            ...           ...   \n",
       "11819               65.102709      59.967332      67.743957             3   \n",
       "11820               29.114286      34.824176      67.743957             6   \n",
       "11821               77.316536      59.850119      67.743957             2   \n",
       "11822               77.316536      71.183644      67.743957             2   \n",
       "11823               65.691589      59.850119      67.743957             1   \n",
       "\n",
       "       Bathrooms  Bedrooms  Beds  Price  Security Deposit  Cleaning Fee  \\\n",
       "0            1.0       1.0   2.0   60.0               0.0          25.0   \n",
       "1            1.0       1.0   2.0   50.0               0.0          15.0   \n",
       "2            1.5       1.0   8.0   10.0               0.0           5.0   \n",
       "3            3.0       1.0   1.0   30.0               0.0           0.0   \n",
       "4            1.0       1.0   1.0   32.0               0.0           0.0   \n",
       "...          ...       ...   ...    ...               ...           ...   \n",
       "11819        1.0       2.0   2.0   52.0               0.0          16.0   \n",
       "11820        1.0       3.0   3.0   55.0             200.0          30.0   \n",
       "11821        1.0       1.0   1.0   69.0               0.0          30.0   \n",
       "11822        1.0       1.0   1.0   69.0               0.0          25.0   \n",
       "11823        1.0       1.0   1.0   25.0               0.0           0.0   \n",
       "\n",
       "       Guests Included  Extra People  Minimum Nights  Maximum Nights  \\\n",
       "0                    1             0               2            1125   \n",
       "1                    1             0               1            1125   \n",
       "2                    1             0               3              30   \n",
       "3                    1             0              10            1125   \n",
       "4                    1            10               1            1125   \n",
       "...                ...           ...             ...             ...   \n",
       "11819                1             0               3            1125   \n",
       "11820                5            20               1            1125   \n",
       "11821                2            40               1            1125   \n",
       "11822                1             0               2              15   \n",
       "11823                1             0               1            1125   \n",
       "\n",
       "       Number of Reviews  Review Scores Rating  Cancellation Policy  \\\n",
       "0                     12             95.000000                    1   \n",
       "1                     20             91.000000                    0   \n",
       "2                      0             91.584833                    1   \n",
       "3                      0             91.584833                    2   \n",
       "4                     97             92.000000                    2   \n",
       "...                  ...                   ...                  ...   \n",
       "11819                  0             91.584833                    1   \n",
       "11820                 68             89.000000                    2   \n",
       "11821                 24             94.000000                    2   \n",
       "11822                 19             98.000000                    2   \n",
       "11823                  4             85.000000                    2   \n",
       "\n",
       "       Reviews per Month  Bedrooms_per_accommodate  \n",
       "0                 0.5000                  0.250000  \n",
       "1                 2.4300                  0.250000  \n",
       "2                 1.9272                  1.000000  \n",
       "3                 1.9272                  0.500000  \n",
       "4                 2.0800                  0.500000  \n",
       "...                  ...                       ...  \n",
       "11819             1.9272                  0.666667  \n",
       "11820             2.9200                  0.500000  \n",
       "11821             2.0600                  0.500000  \n",
       "11822             3.3900                  0.500000  \n",
       "11823             0.3400                  1.000000  \n",
       "\n",
       "[10567 rows x 19 columns]"
      ]
     },
     "execution_count": 30,
     "metadata": {},
     "output_type": "execute_result"
    }
   ],
   "source": [
    "train"
   ]
  },
  {
   "cell_type": "markdown",
   "metadata": {},
   "source": [
    "Ahora echamos un vistazo a las variables"
   ]
  },
  {
   "cell_type": "code",
   "execution_count": 31,
   "metadata": {},
   "outputs": [
    {
     "data": {
      "image/png": "[encoded data removed]",
      "text/plain": [
       "<Figure size 1440x1080 with 20 Axes>"
      ]
     },
     "metadata": {
      "needs_background": "light"
     },
     "output_type": "display_data"
    }
   ],
   "source": [
    "train.hist(bins =50, figsize=(20,15))\n",
    "plt.show()"
   ]
  },
  {
   "cell_type": "markdown",
   "metadata": {},
   "source": [
    "Miramos los ouliers. Empezamos con Accommodates."
   ]
  },
  {
   "cell_type": "code",
   "execution_count": 32,
   "metadata": {},
   "outputs": [
    {
     "data": {
      "text/plain": [
       "Text(0.5, 0, 'Accommodates')"
      ]
     },
     "execution_count": 32,
     "metadata": {},
     "output_type": "execute_result"
    },
    {
     "data": {
      "image/png": "[encoded data removed]",
      "text/plain": [
       "<Figure size 1080x360 with 1 Axes>"
      ]
     },
     "metadata": {
      "needs_background": "light"
     },
     "output_type": "display_data"
    }
   ],
   "source": [
    "plt.figure(figsize=(15, 5))\n",
    "plt.subplot(1,3,2)\n",
    "train['Accommodates'].plot.hist(alpha=0.5, bins=25, grid = True)\n",
    "plt.xlabel('Accommodates')"
   ]
  },
  {
   "cell_type": "code",
   "execution_count": 33,
   "metadata": {},
   "outputs": [],
   "source": [
    "my_filter = train['Accommodates'] > 8\n",
    "train_filtered = train[my_filter]"
   ]
  },
  {
   "cell_type": "code",
   "execution_count": 34,
   "metadata": {},
   "outputs": [
    {
     "data": {
      "text/plain": [
       "Text(0.5, 0, 'Accommodates')"
      ]
     },
     "execution_count": 34,
     "metadata": {},
     "output_type": "execute_result"
    },
    {
     "data": {
      "image/png": "[encoded data removed]",
      "text/plain": [
       "<Figure size 1080x360 with 1 Axes>"
      ]
     },
     "metadata": {
      "needs_background": "light"
     },
     "output_type": "display_data"
    }
   ],
   "source": [
    "plt.figure(figsize=(15, 5))\n",
    "plt.subplot(1,3,2)\n",
    "train['Accommodates'].plot.hist(alpha=0.5, bins=25, grid = True)\n",
    "plt.xlabel('Accommodates')"
   ]
  },
  {
   "cell_type": "code",
   "execution_count": 35,
   "metadata": {},
   "outputs": [],
   "source": [
    "my_filter = train['Accommodates'] < 8\n",
    "train = train[my_filter]"
   ]
  },
  {
   "cell_type": "markdown",
   "metadata": {},
   "source": [
    "Miramos también los outliers de Security Deposit."
   ]
  },
  {
   "cell_type": "code",
   "execution_count": 36,
   "metadata": {},
   "outputs": [
    {
     "data": {
      "text/plain": [
       "Text(0.5, 0, 'Security Deposit')"
      ]
     },
     "execution_count": 36,
     "metadata": {},
     "output_type": "execute_result"
    },
    {
     "data": {
      "image/png": "[encoded data removed]",
      "text/plain": [
       "<Figure size 1080x360 with 1 Axes>"
      ]
     },
     "metadata": {
      "needs_background": "light"
     },
     "output_type": "display_data"
    }
   ],
   "source": [
    "plt.figure(figsize=(15, 5))\n",
    "plt.subplot(1,3,2)\n",
    "train_filtered['Security Deposit'].plot.hist(alpha=0.5, bins=25, grid = True)\n",
    "plt.xlabel('Security Deposit')"
   ]
  },
  {
   "cell_type": "code",
   "execution_count": 37,
   "metadata": {},
   "outputs": [],
   "source": [
    "my_filter = train['Security Deposit'] >400\n",
    "train_filtered = train[my_filter]"
   ]
  },
  {
   "cell_type": "code",
   "execution_count": 38,
   "metadata": {},
   "outputs": [
    {
     "data": {
      "text/plain": [
       "Text(0.5, 0, 'Security Deposit')"
      ]
     },
     "execution_count": 38,
     "metadata": {},
     "output_type": "execute_result"
    },
    {
     "data": {
      "image/png": "[encoded data removed]",
      "text/plain": [
       "<Figure size 1080x360 with 1 Axes>"
      ]
     },
     "metadata": {
      "needs_background": "light"
     },
     "output_type": "display_data"
    }
   ],
   "source": [
    "plt.figure(figsize=(15, 5))\n",
    "plt.subplot(1,3,2)\n",
    "train_filtered['Security Deposit'].plot.hist(alpha=0.5, bins=25, grid = True)\n",
    "plt.xlabel('Security Deposit')"
   ]
  },
  {
   "cell_type": "code",
   "execution_count": 39,
   "metadata": {},
   "outputs": [],
   "source": [
    "my_filter = train['Security Deposit'] < 400\n",
    "train = train[my_filter]"
   ]
  },
  {
   "cell_type": "markdown",
   "metadata": {},
   "source": [
    "Hacemos la transformación logarítmica para tener una distribución gaussiana y ver mejor lo datos. También nos hará tener mejores prestaciones a la hora de ejecutar el modelo."
   ]
  },
  {
   "cell_type": "code",
   "execution_count": 40,
   "metadata": {},
   "outputs": [],
   "source": [
    "features_to_transform = ['Guests Included','Maximum Nights','Minimum Nights', 'Price']\n",
    "\n",
    "for feature in features_to_transform:\n",
    "    train[feature] = train[feature].apply(lambda x: np.log10(x))"
   ]
  },
  {
   "cell_type": "code",
   "execution_count": 41,
   "metadata": {},
   "outputs": [
    {
     "data": {
      "image/png": "[encoded data removed]",
      "text/plain": [
       "<Figure size 1440x1080 with 20 Axes>"
      ]
     },
     "metadata": {
      "needs_background": "light"
     },
     "output_type": "display_data"
    }
   ],
   "source": [
    "train.hist(bins =50, figsize=(20,15))\n",
    "plt.show()"
   ]
  },
  {
   "cell_type": "markdown",
   "metadata": {},
   "source": [
    "# 3. Relación entre variables"
   ]
  },
  {
   "cell_type": "markdown",
   "metadata": {},
   "source": [
    "Miramos la correlacion entre variables."
   ]
  },
  {
   "cell_type": "code",
   "execution_count": 42,
   "metadata": {},
   "outputs": [
    {
     "data": {
      "image/png": "[encoded data removed]",
      "text/plain": [
       "<Figure size 864x720 with 2 Axes>"
      ]
     },
     "metadata": {
      "needs_background": "light"
     },
     "output_type": "display_data"
    }
   ],
   "source": [
    "import seaborn as sns\n",
    "\n",
    "# Compute the correlation matrix\n",
    "corr = np.abs(train.drop(['Price'], axis=1).corr())\n",
    "\n",
    "# Generate a mask for the upper triangle\n",
    "mask = np.zeros_like(corr, dtype=np.bool)\n",
    "mask[np.triu_indices_from(mask)] = True\n",
    "\n",
    "# Set up the matplotlib figure\n",
    "f, ax = plt.subplots(figsize=(12, 10))\n",
    "\n",
    "# Draw the heatmap with the mask and correct aspect ratio\n",
    "sns.heatmap(corr, mask=mask,vmin = 0.0, vmax=1.0, center=0.5,\n",
    "            linewidths=.1, cmap=\"YlGnBu\", cbar_kws={\"shrink\": .8})\n",
    "\n",
    "plt.show()"
   ]
  },
  {
   "cell_type": "code",
   "execution_count": 43,
   "metadata": {},
   "outputs": [
    {
     "data": {
      "text/plain": [
       "Price                       1.000000\n",
       "Accommodates                0.648321\n",
       "Cleaning Fee                0.474589\n",
       "Beds                        0.440508\n",
       "Neighbourhood Cleansed      0.422572\n",
       "Guests Included             0.403539\n",
       "Bedrooms                    0.379196\n",
       "Neighbourhood               0.341077\n",
       "Security Deposit            0.311068\n",
       "Cancellation Policy         0.152580\n",
       "Property Type               0.150263\n",
       "Minimum Nights              0.149811\n",
       "Extra People                0.130722\n",
       "Bathrooms                   0.116927\n",
       "Maximum Nights              0.086116\n",
       "Review Scores Rating        0.050704\n",
       "Number of Reviews           0.034591\n",
       "Reviews per Month          -0.020833\n",
       "Bedrooms_per_accommodate   -0.351634\n",
       "Name: Price, dtype: float64"
      ]
     },
     "execution_count": 43,
     "metadata": {},
     "output_type": "execute_result"
    }
   ],
   "source": [
    "corr_matrix = train.corr()\n",
    "corr_matrix['Price'].sort_values(ascending=False)"
   ]
  },
  {
   "cell_type": "markdown",
   "metadata": {},
   "source": [
    "Vemos como las variables relacionadas con reviews y el máximo  de noches no influyen demasiado en el precio. Por otro lado, podemos quitar neighbourhood por estar muy correlada con Neighbourhood Cleansed, la cual tiene una correlación mayor con la variable objetivo."
   ]
  },
  {
   "cell_type": "code",
   "execution_count": 44,
   "metadata": {},
   "outputs": [],
   "source": [
    "train = train.drop(['Neighbourhood'], axis=1)"
   ]
  },
  {
   "cell_type": "markdown",
   "metadata": {},
   "source": [
    "# 4. Aplicamos a test las transformaciones de train"
   ]
  },
  {
   "cell_type": "code",
   "execution_count": 45,
   "metadata": {},
   "outputs": [],
   "source": [
    "#Seleccionamos la columnas a usar\n",
    "cols = ['Neighbourhood Cleansed','Neighbourhood','City',\n",
    "        'Property Type','Accommodates','Bathrooms', 'Bedrooms', 'Beds','Square Feet','Price', 'Security Deposit', 'Cleaning Fee',\n",
    "       'Guests Included', 'Extra People','Minimum Nights', 'Maximum Nights','Number of Reviews','Review Scores Rating', 'Cancellation Policy', 'Reviews per Month' ]\n",
    "\n",
    "test = test[cols]\n",
    "\n",
    "#Filtramos por Madrid\n",
    "Madrid = test['City'] == 'Madrid'\n",
    "test = test[Madrid]\n",
    "\n",
    "#Creamos la nueva variable\n",
    "test['Bedrooms_per_accommodate'] = test['Bedrooms']/test['Accommodates']\n",
    "\n",
    "#Eliminamos las variables pies cuadrados y ciudad\n",
    "test = test.drop(['Square Feet'], axis=1)\n",
    "test = test.drop(['City'], axis=1)\n",
    "\n",
    "#Imputamos con los valores de train\n",
    "test[\"Bedrooms\"] = test['Bedrooms'].fillna(mediabedrooms)\n",
    "test[\"Bathrooms\"] = test['Bathrooms'].fillna(mediabathrooms)\n",
    "test[\"Beds\"]  = test['Beds'].fillna(mediabeds)\n",
    "test[\"Review Scores Rating\"] = test['Review Scores Rating'].fillna(mediareviewscores)\n",
    "test[\"Reviews per Month\"] = test['Reviews per Month'].fillna(mediareviewsmoth)\n",
    "test['Bedrooms_per_accommodate'] = test['Bedrooms_per_accommodate'].fillna(mediabedroomsaccom)\n",
    "test[\"Security Deposit\"] = test['Security Deposit'].fillna(0)\n",
    "test[\"Cleaning Fee\"] = test['Cleaning Fee'].fillna(0)\n",
    "test[\"Price\"] = test['Price'].fillna(mediaprice)\n",
    "test['Neighbourhood'] = test['Neighbourhood'].fillna('Unknown')\n",
    "\n",
    "#Pasamos a dummy\n",
    "for c in categorical:\n",
    "    test[c] = test[c].map(mean_map[c])\n",
    "\n",
    "test['Cancellation Policy'] = labelencoder.fit_transform(test['Cancellation Policy'])\n",
    "\n",
    "#Quitamos la columna Neighbourhood\n",
    "test = test.drop(['Neighbourhood'], axis=1)\n",
    "\n",
    "# #Filtramos los valores de price\n",
    "my_filter = test['Accommodates'] < 8\n",
    "test = test[my_filter]\n",
    "\n",
    "my_filter = test['Security Deposit'] < 8\n",
    "test = test[my_filter]"
   ]
  },
  {
   "cell_type": "code",
   "execution_count": 46,
   "metadata": {},
   "outputs": [
    {
     "name": "stdout",
     "output_type": "stream",
     "text": [
      "Neighbourhood Cleansed      0\n",
      "Property Type               1\n",
      "Accommodates                0\n",
      "Bathrooms                   0\n",
      "Bedrooms                    0\n",
      "Beds                        0\n",
      "Price                       0\n",
      "Security Deposit            0\n",
      "Cleaning Fee                0\n",
      "Guests Included             0\n",
      "Extra People                0\n",
      "Minimum Nights              0\n",
      "Maximum Nights              0\n",
      "Number of Reviews           0\n",
      "Review Scores Rating        0\n",
      "Cancellation Policy         0\n",
      "Reviews per Month           0\n",
      "Bedrooms_per_accommodate    0\n",
      "dtype: int64\n"
     ]
    }
   ],
   "source": [
    "print(test.isnull().sum())"
   ]
  },
  {
   "cell_type": "code",
   "execution_count": 47,
   "metadata": {},
   "outputs": [
    {
     "data": {
      "text/plain": [
       "Property Type\n",
       "20.500000       2\n",
       "38.593156      51\n",
       "41.586207       7\n",
       "47.923077       2\n",
       "49.527778       5\n",
       "57.428571       1\n",
       "57.685451     142\n",
       "63.385019      54\n",
       "64.888889       4\n",
       "66.680723      30\n",
       "67.743957    1198\n",
       "68.000000       1\n",
       "74.895652      20\n",
       "79.285714       2\n",
       "dtype: int64"
      ]
     },
     "execution_count": 47,
     "metadata": {},
     "output_type": "execute_result"
    }
   ],
   "source": [
    "test.groupby(['Property Type']).size()"
   ]
  },
  {
   "cell_type": "markdown",
   "metadata": {},
   "source": [
    "Como solo hay un valore de Property Type que no hemos visto en train, lo eliminamos."
   ]
  },
  {
   "cell_type": "code",
   "execution_count": 48,
   "metadata": {},
   "outputs": [],
   "source": [
    "test = test.dropna()"
   ]
  },
  {
   "cell_type": "code",
   "execution_count": 49,
   "metadata": {},
   "outputs": [
    {
     "name": "stdout",
     "output_type": "stream",
     "text": [
      "Dimensiones de train: (9947, 18)\n",
      "Dimensiones de test: (1519, 18)\n"
     ]
    }
   ],
   "source": [
    "print(f'Dimensiones de train: {train.shape}')\n",
    "print(f'Dimensiones de test: {test.shape}')"
   ]
  },
  {
   "cell_type": "markdown",
   "metadata": {},
   "source": [
    "# 5.  Selección de características y modelo Random Forest"
   ]
  },
  {
   "cell_type": "markdown",
   "metadata": {},
   "source": [
    "Hacemos selección de características con un Random forest."
   ]
  },
  {
   "cell_type": "code",
   "execution_count": 50,
   "metadata": {},
   "outputs": [],
   "source": [
    "features = ['Neighbourhood Cleansed',\n",
    "        'Property Type','Accommodates','Bathrooms', 'Bedrooms', 'Beds','Price', 'Security Deposit', 'Cleaning Fee',\n",
    "       'Guests Included', 'Extra People','Minimum Nights', 'Maximum Nights','Number of Reviews','Review Scores Rating', 'Cancellation Policy', 'Reviews per Month', 'Bedrooms_per_accommodate']\n",
    "\n",
    "target = ['Price']\n",
    "\n",
    "x_train = train[features].values\n",
    "y_train = train[target].values\n",
    "x_test = test[features].values\n",
    "y_test = test[target].values"
   ]
  },
  {
   "cell_type": "markdown",
   "metadata": {},
   "source": [
    "En los random forest no nos hace falta escalar los datos."
   ]
  },
  {
   "cell_type": "code",
   "execution_count": 51,
   "metadata": {},
   "outputs": [
    {
     "name": "stdout",
     "output_type": "stream",
     "text": [
      "best mean cross-validation score: 0.981\n",
      "best parameters: {'max_depth': 14}\n"
     ]
    },
    {
     "data": {
      "image/png": "[encoded data removed]",
      "text/plain": [
       "<Figure size 432x288 with 1 Axes>"
      ]
     },
     "metadata": {
      "needs_background": "light"
     },
     "output_type": "display_data"
    }
   ],
   "source": [
    "from sklearn.model_selection import GridSearchCV\n",
    "from sklearn.ensemble import RandomForestRegressor\n",
    "from sklearn import tree\n",
    "\n",
    "# grid search\n",
    "maxDepth = range(1,15)\n",
    "tuned_parameters = {'max_depth': maxDepth}\n",
    "\n",
    "grid = GridSearchCV(RandomForestRegressor(random_state=0, n_estimators=200, max_features='sqrt'), param_grid=tuned_parameters,cv=10) \n",
    "grid.fit(x_train, y_train)\n",
    "\n",
    "print(\"best mean cross-validation score: {:.3f}\".format(grid.best_score_))\n",
    "print(\"best parameters: {}\".format(grid.best_params_))\n",
    "\n",
    "scores = np.array(grid.cv_results_['mean_test_score'])\n",
    "plt.plot(maxDepth,scores,'-o')\n",
    "plt.xlabel('max_depth')\n",
    "plt.ylabel('10-fold ACC')\n",
    "\n",
    "plt.show()"
   ]
  },
  {
   "cell_type": "markdown",
   "metadata": {},
   "source": [
    "Evaluamos el modelo."
   ]
  },
  {
   "cell_type": "code",
   "execution_count": 52,
   "metadata": {},
   "outputs": [
    {
     "name": "stdout",
     "output_type": "stream",
     "text": [
      "Train:  0.9950159782458653\n",
      "Test:  -1.0910050670846174\n"
     ]
    }
   ],
   "source": [
    "maxDepthOptimo = grid.best_params_['max_depth']\n",
    "randomModel = RandomForestRegressor(max_depth=maxDepthOptimo,n_estimators=200,max_features='sqrt').fit(x_train,y_train)\n",
    "\n",
    "print(\"Train: \",randomModel.score(x_train,y_train))\n",
    "print(\"Test: \",randomModel.score(x_test,y_test))"
   ]
  },
  {
   "cell_type": "markdown",
   "metadata": {},
   "source": [
    "Seleccionamos las variables que más influyen en el modelo para intentar optimizarlo."
   ]
  },
  {
   "cell_type": "code",
   "execution_count": 53,
   "metadata": {},
   "outputs": [
    {
     "name": "stdout",
     "output_type": "stream",
     "text": [
      "# features 1 error 9.322270251388432e-06 +/- 1.5349414266220298e-05\n",
      "# features 2 error 0.00014179847213511288 +/- 0.00011085319502149681\n",
      "# features 3 error 0.0014182568239469507 +/- 0.0014138464251266562\n",
      "# features 4 error 0.0006539924420611021 +/- 0.00043131808686287766\n",
      "# features 5 error 0.00232992738009411 +/- 0.0012311172851850137\n",
      "# features 6 error 0.004472768122065263 +/- 0.0023212108588401897\n",
      "# features 7 error 0.007526268910063227 +/- 0.003284238377680648\n",
      "# features 8 error 0.01145702130732601 +/- 0.0037993113552225255\n",
      "# features 9 error 0.005341944595562764 +/- 0.0025956080187294756\n",
      "# features 10 error 0.007257408203676863 +/- 0.0024277672621858554\n",
      "# features 11 error 0.009872353724174531 +/- 0.0030185203141346512\n",
      "# features 12 error 0.013206385398141295 +/- 0.0034828522891190952\n",
      "# features 13 error 0.015805513561215824 +/- 0.003698453576003925\n",
      "# features 14 error 0.020154528975830345 +/- 0.0033054102218542276\n",
      "# features 15 error 0.023386154848415275 +/- 0.0037715874850667744\n",
      "# features 16 error 0.0131081945743332 +/- 0.003015170218638991\n",
      "# features 17 error 0.01552419413801982 +/- 0.0027956148971900628\n",
      "# features 18 error 0.017953419284223615 +/- 0.0034089212761101995\n"
     ]
    }
   ],
   "source": [
    "from sklearn.model_selection import KFold\n",
    "\n",
    "N,Nfeatures = x_train.shape\n",
    "\n",
    "rf = RandomForestRegressor(max_depth=maxDepthOptimo,n_estimators=200,max_features='sqrt')\n",
    "kf  = KFold(n_splits=10, shuffle = True, random_state=1)\n",
    "cv_error = []\n",
    "cv_std = []\n",
    "\n",
    "for nfeatures in range(Nfeatures,0,-1):\n",
    "        \n",
    "    error_i = []\n",
    "    \n",
    "    for idxTrain, idxVal in kf.split(x_train):\n",
    "        \n",
    "        Xt = x_train[idxTrain,:]\n",
    "        yt = y_train[idxTrain]\n",
    "        Xv = x_train[idxVal,:]\n",
    "        yv = y_train[idxVal]\n",
    "        \n",
    "        rf.fit(Xt,yt)\n",
    "        \n",
    "        ranking = rf.feature_importances_\n",
    "        indices = np.argsort(ranking)[::-1] \n",
    "    \n",
    "        selected = indices[0:(Nfeatures-nfeatures+1)]\n",
    "        \n",
    "        Xs = Xt[:,selected]\n",
    "        \n",
    "        rf.fit(Xs,yt)\n",
    "        error = (1.0-rf.score(Xv[:,selected],yv))     \n",
    "        error_i.append(error) \n",
    "    \n",
    "    cv_error.append(np.mean(error_i))\n",
    "    cv_std.append(np.std(error_i))\n",
    "    \n",
    "    print('# features ' + str(len(selected)) + ' error ' + str(np.mean(error_i)) + ' +/- ' + str(np.std(error_i)))\n"
   ]
  },
  {
   "cell_type": "code",
   "execution_count": 54,
   "metadata": {},
   "outputs": [
    {
     "data": {
      "image/png": "[encoded data removed]",
      "text/plain": [
       "<Figure size 432x288 with 1 Axes>"
      ]
     },
     "metadata": {
      "needs_background": "light"
     },
     "output_type": "display_data"
    }
   ],
   "source": [
    "plt.plot(range(1,Nfeatures+1,1),cv_error,'-o')\n",
    "plt.errorbar(range(1,Nfeatures+1,1), cv_error, yerr=cv_std, fmt='o')\n",
    "plt.xlabel('# features')\n",
    "plt.ylabel('CV error')\n",
    "plt.show()"
   ]
  },
  {
   "cell_type": "code",
   "execution_count": 55,
   "metadata": {},
   "outputs": [
    {
     "name": "stdout",
     "output_type": "stream",
     "text": [
      "Train:  0.9886543761088067\n",
      "Test:  -1.0855115424031472\n"
     ]
    }
   ],
   "source": [
    "selected_features = indices[0:4]\n",
    "\n",
    "maxDepthOptimo = grid.best_params_['max_depth']\n",
    "randomModel = RandomForestRegressor(max_depth=maxDepthOptimo-8,n_estimators=200,max_features='sqrt').fit(x_train,y_train)\n",
    "\n",
    "randomModel.fit(x_train[:, selected_features],y_train)\n",
    "\n",
    "print(\"Train: \",randomModel.score(x_train[:, selected_features],y_train))\n",
    "print(\"Test: \",randomModel.score(x_test[:, selected_features],y_test))"
   ]
  },
  {
   "cell_type": "markdown",
   "metadata": {},
   "source": [
    "Conseguimos que el error en test baje pero aun así parece que tenemos overfitting ya que, además de la diferencia entre el score de train y test, vemos que train se acerca mucho a 1, lo que significaría que el modelo se está aprendiendo los datos. Reducimos la profundidad para intentar ajustar más los valores."
   ]
  }
 ],
 "metadata": {
  "kernelspec": {
   "display_name": "Python 3",
   "language": "python",
   "name": "python3"
  },
  "language_info": {
   "codemirror_mode": {
    "name": "ipython",
    "version": 3
   },
   "file_extension": ".py",
   "mimetype": "text/x-python",
   "name": "python",
   "nbconvert_exporter": "python",
   "pygments_lexer": "ipython3",
   "version": "3.7.4"
  }
 },
 "nbformat": 4,
 "nbformat_minor": 2
}
